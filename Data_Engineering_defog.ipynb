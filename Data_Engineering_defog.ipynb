{
 "cells": [
  {
   "cell_type": "code",
   "execution_count": 1,
   "metadata": {},
   "outputs": [],
   "source": [
    "import pandas as pd\n",
    "import numpy as np \n",
    "import matplotlib.pyplot as plt"
   ]
  },
  {
   "attachments": {},
   "cell_type": "markdown",
   "metadata": {},
   "source": [
    "### Data import and check"
   ]
  },
  {
   "cell_type": "code",
   "execution_count": 2,
   "metadata": {},
   "outputs": [],
   "source": [
    "Test_defog_path = 'Data/test/defog/02ab235146.csv'"
   ]
  },
  {
   "cell_type": "code",
   "execution_count": 3,
   "metadata": {},
   "outputs": [],
   "source": [
    "Test_defog_dataset = pd.read_csv(Test_defog_path)"
   ]
  },
  {
   "cell_type": "code",
   "execution_count": 4,
   "metadata": {},
   "outputs": [
    {
     "data": {
      "text/plain": [
       "(          Time      AccV     AccML     AccAP\n",
       " 0            0 -0.914652 -0.300851  0.298156\n",
       " 1            1 -0.914367 -0.301572  0.298325\n",
       " 2            2 -0.779540 -0.343197  0.275690\n",
       " 3            3 -0.993162 -0.270281  0.315775\n",
       " 4            4 -0.948767 -0.307849  0.297191\n",
       " ...        ...       ...       ...       ...\n",
       " 281683  281683 -0.899299 -0.232668  0.389147\n",
       " 281684  281684 -0.901973 -0.233051  0.390114\n",
       " 281685  281685 -0.901690 -0.231888  0.391896\n",
       " 281686  281686 -0.899576 -0.232429  0.391106\n",
       " 281687  281687 -0.900289 -0.232363  0.390735\n",
       " \n",
       " [281688 rows x 4 columns],\n",
       " (281688, 4))"
      ]
     },
     "execution_count": 4,
     "metadata": {},
     "output_type": "execute_result"
    }
   ],
   "source": [
    "Test_defog_dataset , Test_defog_dataset.shape"
   ]
  },
  {
   "cell_type": "code",
   "execution_count": 5,
   "metadata": {},
   "outputs": [
    {
     "data": {
      "text/plain": [
       "0"
      ]
     },
     "execution_count": 5,
     "metadata": {},
     "output_type": "execute_result"
    }
   ],
   "source": [
    "Test_defog_dataset.duplicated().sum()"
   ]
  },
  {
   "attachments": {},
   "cell_type": "markdown",
   "metadata": {},
   "source": [
    "#### Import without ID"
   ]
  },
  {
   "cell_type": "code",
   "execution_count": 6,
   "metadata": {},
   "outputs": [],
   "source": [
    "# from pathlib import Path\n",
    "# import pandas as pd\n",
    "\n",
    "# data_dir = Path('Data/train/defog/')\n",
    "# full_defog_dataset = pd.concat(\n",
    "#     pd.read_csv(csv_files) for csv_files in data_dir.glob('*.csv')\n",
    "#     )\n",
    "# full_defog_dataset"
   ]
  },
  {
   "cell_type": "code",
   "execution_count": 7,
   "metadata": {},
   "outputs": [],
   "source": [
    "# from pathlib import Path\n",
    "# import pandas as pd\n",
    "\n",
    "# data_dir = Path('Data/train/tdcsfog/')\n",
    "# full_tdcsfog_dataset = pd.concat(\n",
    "#     pd.read_csv(csv_files) for csv_files in data_dir.glob('*.csv'))\n",
    "# full_tdcsfog_dataset"
   ]
  },
  {
   "attachments": {},
   "cell_type": "markdown",
   "metadata": {},
   "source": [
    "#### Import with ID"
   ]
  },
  {
   "cell_type": "code",
   "execution_count": 8,
   "metadata": {},
   "outputs": [
    {
     "data": {
      "text/html": [
       "<div>\n",
       "<style scoped>\n",
       "    .dataframe tbody tr th:only-of-type {\n",
       "        vertical-align: middle;\n",
       "    }\n",
       "\n",
       "    .dataframe tbody tr th {\n",
       "        vertical-align: top;\n",
       "    }\n",
       "\n",
       "    .dataframe thead th {\n",
       "        text-align: right;\n",
       "    }\n",
       "</style>\n",
       "<table border=\"1\" class=\"dataframe\">\n",
       "  <thead>\n",
       "    <tr style=\"text-align: right;\">\n",
       "      <th></th>\n",
       "      <th>ID</th>\n",
       "      <th>Time</th>\n",
       "      <th>AccV</th>\n",
       "      <th>AccML</th>\n",
       "      <th>AccAP</th>\n",
       "      <th>StartHesitation</th>\n",
       "      <th>Turn</th>\n",
       "      <th>Walking</th>\n",
       "      <th>Valid</th>\n",
       "      <th>Task</th>\n",
       "    </tr>\n",
       "  </thead>\n",
       "  <tbody>\n",
       "    <tr>\n",
       "      <th>0</th>\n",
       "      <td>2c12284ed2</td>\n",
       "      <td>0</td>\n",
       "      <td>-0.843750</td>\n",
       "      <td>0.093750</td>\n",
       "      <td>-0.671875</td>\n",
       "      <td>0</td>\n",
       "      <td>0</td>\n",
       "      <td>0</td>\n",
       "      <td>False</td>\n",
       "      <td>False</td>\n",
       "    </tr>\n",
       "    <tr>\n",
       "      <th>1</th>\n",
       "      <td>2c12284ed2</td>\n",
       "      <td>1</td>\n",
       "      <td>-0.843750</td>\n",
       "      <td>0.093750</td>\n",
       "      <td>-0.671875</td>\n",
       "      <td>0</td>\n",
       "      <td>0</td>\n",
       "      <td>0</td>\n",
       "      <td>False</td>\n",
       "      <td>False</td>\n",
       "    </tr>\n",
       "    <tr>\n",
       "      <th>2</th>\n",
       "      <td>2c12284ed2</td>\n",
       "      <td>2</td>\n",
       "      <td>-0.843750</td>\n",
       "      <td>0.093750</td>\n",
       "      <td>-0.671875</td>\n",
       "      <td>0</td>\n",
       "      <td>0</td>\n",
       "      <td>0</td>\n",
       "      <td>False</td>\n",
       "      <td>False</td>\n",
       "    </tr>\n",
       "    <tr>\n",
       "      <th>3</th>\n",
       "      <td>2c12284ed2</td>\n",
       "      <td>3</td>\n",
       "      <td>-0.842422</td>\n",
       "      <td>0.093750</td>\n",
       "      <td>-0.671875</td>\n",
       "      <td>0</td>\n",
       "      <td>0</td>\n",
       "      <td>0</td>\n",
       "      <td>False</td>\n",
       "      <td>False</td>\n",
       "    </tr>\n",
       "    <tr>\n",
       "      <th>4</th>\n",
       "      <td>2c12284ed2</td>\n",
       "      <td>4</td>\n",
       "      <td>-0.828125</td>\n",
       "      <td>0.093750</td>\n",
       "      <td>-0.671875</td>\n",
       "      <td>0</td>\n",
       "      <td>0</td>\n",
       "      <td>0</td>\n",
       "      <td>False</td>\n",
       "      <td>False</td>\n",
       "    </tr>\n",
       "    <tr>\n",
       "      <th>...</th>\n",
       "      <td>...</td>\n",
       "      <td>...</td>\n",
       "      <td>...</td>\n",
       "      <td>...</td>\n",
       "      <td>...</td>\n",
       "      <td>...</td>\n",
       "      <td>...</td>\n",
       "      <td>...</td>\n",
       "      <td>...</td>\n",
       "      <td>...</td>\n",
       "    </tr>\n",
       "    <tr>\n",
       "      <th>190267</th>\n",
       "      <td>7030643376</td>\n",
       "      <td>190267</td>\n",
       "      <td>-0.910985</td>\n",
       "      <td>-0.087437</td>\n",
       "      <td>-0.307493</td>\n",
       "      <td>0</td>\n",
       "      <td>0</td>\n",
       "      <td>0</td>\n",
       "      <td>False</td>\n",
       "      <td>False</td>\n",
       "    </tr>\n",
       "    <tr>\n",
       "      <th>190268</th>\n",
       "      <td>7030643376</td>\n",
       "      <td>190268</td>\n",
       "      <td>-0.905326</td>\n",
       "      <td>-0.088745</td>\n",
       "      <td>-0.301735</td>\n",
       "      <td>0</td>\n",
       "      <td>0</td>\n",
       "      <td>0</td>\n",
       "      <td>False</td>\n",
       "      <td>False</td>\n",
       "    </tr>\n",
       "    <tr>\n",
       "      <th>190269</th>\n",
       "      <td>7030643376</td>\n",
       "      <td>190269</td>\n",
       "      <td>-0.898856</td>\n",
       "      <td>-0.087155</td>\n",
       "      <td>-0.299521</td>\n",
       "      <td>0</td>\n",
       "      <td>0</td>\n",
       "      <td>0</td>\n",
       "      <td>False</td>\n",
       "      <td>False</td>\n",
       "    </tr>\n",
       "    <tr>\n",
       "      <th>190270</th>\n",
       "      <td>7030643376</td>\n",
       "      <td>190270</td>\n",
       "      <td>-0.895578</td>\n",
       "      <td>-0.084967</td>\n",
       "      <td>-0.299579</td>\n",
       "      <td>0</td>\n",
       "      <td>0</td>\n",
       "      <td>0</td>\n",
       "      <td>False</td>\n",
       "      <td>False</td>\n",
       "    </tr>\n",
       "    <tr>\n",
       "      <th>190271</th>\n",
       "      <td>7030643376</td>\n",
       "      <td>190271</td>\n",
       "      <td>-0.887483</td>\n",
       "      <td>-0.084099</td>\n",
       "      <td>-0.302229</td>\n",
       "      <td>0</td>\n",
       "      <td>0</td>\n",
       "      <td>0</td>\n",
       "      <td>False</td>\n",
       "      <td>False</td>\n",
       "    </tr>\n",
       "  </tbody>\n",
       "</table>\n",
       "<p>13525702 rows × 10 columns</p>\n",
       "</div>"
      ],
      "text/plain": [
       "                ID    Time      AccV     AccML     AccAP  StartHesitation  \\\n",
       "0       2c12284ed2       0 -0.843750  0.093750 -0.671875                0   \n",
       "1       2c12284ed2       1 -0.843750  0.093750 -0.671875                0   \n",
       "2       2c12284ed2       2 -0.843750  0.093750 -0.671875                0   \n",
       "3       2c12284ed2       3 -0.842422  0.093750 -0.671875                0   \n",
       "4       2c12284ed2       4 -0.828125  0.093750 -0.671875                0   \n",
       "...            ...     ...       ...       ...       ...              ...   \n",
       "190267  7030643376  190267 -0.910985 -0.087437 -0.307493                0   \n",
       "190268  7030643376  190268 -0.905326 -0.088745 -0.301735                0   \n",
       "190269  7030643376  190269 -0.898856 -0.087155 -0.299521                0   \n",
       "190270  7030643376  190270 -0.895578 -0.084967 -0.299579                0   \n",
       "190271  7030643376  190271 -0.887483 -0.084099 -0.302229                0   \n",
       "\n",
       "        Turn  Walking  Valid   Task  \n",
       "0          0        0  False  False  \n",
       "1          0        0  False  False  \n",
       "2          0        0  False  False  \n",
       "3          0        0  False  False  \n",
       "4          0        0  False  False  \n",
       "...      ...      ...    ...    ...  \n",
       "190267     0        0  False  False  \n",
       "190268     0        0  False  False  \n",
       "190269     0        0  False  False  \n",
       "190270     0        0  False  False  \n",
       "190271     0        0  False  False  \n",
       "\n",
       "[13525702 rows x 10 columns]"
      ]
     },
     "execution_count": 8,
     "metadata": {},
     "output_type": "execute_result"
    }
   ],
   "source": [
    "import os\n",
    "import pandas as pd\n",
    "\n",
    "# specify the folder path\n",
    "folder_path = \"Data/train/defog/\"\n",
    "\n",
    "# create an empty list to store the DataFrames\n",
    "dfs = []\n",
    "\n",
    "# loop over all files in the folder\n",
    "for filename in os.listdir(folder_path):\n",
    "    if filename.endswith(\".csv\"):\n",
    "        # extract the ID from the filename (assuming the filename is in the format \"ID.csv\")\n",
    "        file_id = os.path.splitext(filename)[0]\n",
    "        \n",
    "        # read the CSV file into a DataFrame and add the ID as a new column\n",
    "        df = pd.read_csv(os.path.join(folder_path, filename))\n",
    "        df.insert(0, 'ID', file_id)\n",
    "        \n",
    "        # append the DataFrame to the list\n",
    "        dfs.append(df)\n",
    "\n",
    "# concatenate all DataFrames into a single DataFrame\n",
    "full_defog_dataset = pd.concat(dfs)\n",
    "\n",
    "# print the resulting DataFrame\n",
    "full_defog_dataset"
   ]
  },
  {
   "cell_type": "code",
   "execution_count": 9,
   "metadata": {},
   "outputs": [],
   "source": [
    "condition = (full_defog_dataset.StartHesitation == 0) & (full_defog_dataset.Turn == 0) & (full_defog_dataset.Walking == 0)\n",
    "condition_2 = (full_defog_dataset.StartHesitation == 1) | (full_defog_dataset.Turn == 1) | (full_defog_dataset.Walking == 1)"
   ]
  },
  {
   "cell_type": "code",
   "execution_count": 10,
   "metadata": {},
   "outputs": [
    {
     "data": {
      "text/html": [
       "<div>\n",
       "<style scoped>\n",
       "    .dataframe tbody tr th:only-of-type {\n",
       "        vertical-align: middle;\n",
       "    }\n",
       "\n",
       "    .dataframe tbody tr th {\n",
       "        vertical-align: top;\n",
       "    }\n",
       "\n",
       "    .dataframe thead th {\n",
       "        text-align: right;\n",
       "    }\n",
       "</style>\n",
       "<table border=\"1\" class=\"dataframe\">\n",
       "  <thead>\n",
       "    <tr style=\"text-align: right;\">\n",
       "      <th></th>\n",
       "      <th>ID</th>\n",
       "      <th>Time</th>\n",
       "      <th>AccV</th>\n",
       "      <th>AccML</th>\n",
       "      <th>AccAP</th>\n",
       "      <th>StartHesitation</th>\n",
       "      <th>Turn</th>\n",
       "      <th>Walking</th>\n",
       "      <th>Valid</th>\n",
       "      <th>Task</th>\n",
       "      <th>All_zero</th>\n",
       "    </tr>\n",
       "  </thead>\n",
       "  <tbody>\n",
       "    <tr>\n",
       "      <th>0</th>\n",
       "      <td>2c12284ed2</td>\n",
       "      <td>0</td>\n",
       "      <td>-0.843750</td>\n",
       "      <td>0.093750</td>\n",
       "      <td>-0.671875</td>\n",
       "      <td>0</td>\n",
       "      <td>0</td>\n",
       "      <td>0</td>\n",
       "      <td>False</td>\n",
       "      <td>False</td>\n",
       "      <td>1.0</td>\n",
       "    </tr>\n",
       "    <tr>\n",
       "      <th>1</th>\n",
       "      <td>2c12284ed2</td>\n",
       "      <td>1</td>\n",
       "      <td>-0.843750</td>\n",
       "      <td>0.093750</td>\n",
       "      <td>-0.671875</td>\n",
       "      <td>0</td>\n",
       "      <td>0</td>\n",
       "      <td>0</td>\n",
       "      <td>False</td>\n",
       "      <td>False</td>\n",
       "      <td>1.0</td>\n",
       "    </tr>\n",
       "    <tr>\n",
       "      <th>2</th>\n",
       "      <td>2c12284ed2</td>\n",
       "      <td>2</td>\n",
       "      <td>-0.843750</td>\n",
       "      <td>0.093750</td>\n",
       "      <td>-0.671875</td>\n",
       "      <td>0</td>\n",
       "      <td>0</td>\n",
       "      <td>0</td>\n",
       "      <td>False</td>\n",
       "      <td>False</td>\n",
       "      <td>1.0</td>\n",
       "    </tr>\n",
       "    <tr>\n",
       "      <th>3</th>\n",
       "      <td>2c12284ed2</td>\n",
       "      <td>3</td>\n",
       "      <td>-0.842422</td>\n",
       "      <td>0.093750</td>\n",
       "      <td>-0.671875</td>\n",
       "      <td>0</td>\n",
       "      <td>0</td>\n",
       "      <td>0</td>\n",
       "      <td>False</td>\n",
       "      <td>False</td>\n",
       "      <td>1.0</td>\n",
       "    </tr>\n",
       "    <tr>\n",
       "      <th>4</th>\n",
       "      <td>2c12284ed2</td>\n",
       "      <td>4</td>\n",
       "      <td>-0.828125</td>\n",
       "      <td>0.093750</td>\n",
       "      <td>-0.671875</td>\n",
       "      <td>0</td>\n",
       "      <td>0</td>\n",
       "      <td>0</td>\n",
       "      <td>False</td>\n",
       "      <td>False</td>\n",
       "      <td>1.0</td>\n",
       "    </tr>\n",
       "    <tr>\n",
       "      <th>...</th>\n",
       "      <td>...</td>\n",
       "      <td>...</td>\n",
       "      <td>...</td>\n",
       "      <td>...</td>\n",
       "      <td>...</td>\n",
       "      <td>...</td>\n",
       "      <td>...</td>\n",
       "      <td>...</td>\n",
       "      <td>...</td>\n",
       "      <td>...</td>\n",
       "      <td>...</td>\n",
       "    </tr>\n",
       "    <tr>\n",
       "      <th>190267</th>\n",
       "      <td>7030643376</td>\n",
       "      <td>190267</td>\n",
       "      <td>-0.910985</td>\n",
       "      <td>-0.087437</td>\n",
       "      <td>-0.307493</td>\n",
       "      <td>0</td>\n",
       "      <td>0</td>\n",
       "      <td>0</td>\n",
       "      <td>False</td>\n",
       "      <td>False</td>\n",
       "      <td>1.0</td>\n",
       "    </tr>\n",
       "    <tr>\n",
       "      <th>190268</th>\n",
       "      <td>7030643376</td>\n",
       "      <td>190268</td>\n",
       "      <td>-0.905326</td>\n",
       "      <td>-0.088745</td>\n",
       "      <td>-0.301735</td>\n",
       "      <td>0</td>\n",
       "      <td>0</td>\n",
       "      <td>0</td>\n",
       "      <td>False</td>\n",
       "      <td>False</td>\n",
       "      <td>1.0</td>\n",
       "    </tr>\n",
       "    <tr>\n",
       "      <th>190269</th>\n",
       "      <td>7030643376</td>\n",
       "      <td>190269</td>\n",
       "      <td>-0.898856</td>\n",
       "      <td>-0.087155</td>\n",
       "      <td>-0.299521</td>\n",
       "      <td>0</td>\n",
       "      <td>0</td>\n",
       "      <td>0</td>\n",
       "      <td>False</td>\n",
       "      <td>False</td>\n",
       "      <td>1.0</td>\n",
       "    </tr>\n",
       "    <tr>\n",
       "      <th>190270</th>\n",
       "      <td>7030643376</td>\n",
       "      <td>190270</td>\n",
       "      <td>-0.895578</td>\n",
       "      <td>-0.084967</td>\n",
       "      <td>-0.299579</td>\n",
       "      <td>0</td>\n",
       "      <td>0</td>\n",
       "      <td>0</td>\n",
       "      <td>False</td>\n",
       "      <td>False</td>\n",
       "      <td>1.0</td>\n",
       "    </tr>\n",
       "    <tr>\n",
       "      <th>190271</th>\n",
       "      <td>7030643376</td>\n",
       "      <td>190271</td>\n",
       "      <td>-0.887483</td>\n",
       "      <td>-0.084099</td>\n",
       "      <td>-0.302229</td>\n",
       "      <td>0</td>\n",
       "      <td>0</td>\n",
       "      <td>0</td>\n",
       "      <td>False</td>\n",
       "      <td>False</td>\n",
       "      <td>1.0</td>\n",
       "    </tr>\n",
       "  </tbody>\n",
       "</table>\n",
       "<p>13525702 rows × 11 columns</p>\n",
       "</div>"
      ],
      "text/plain": [
       "                ID    Time      AccV     AccML     AccAP  StartHesitation  \\\n",
       "0       2c12284ed2       0 -0.843750  0.093750 -0.671875                0   \n",
       "1       2c12284ed2       1 -0.843750  0.093750 -0.671875                0   \n",
       "2       2c12284ed2       2 -0.843750  0.093750 -0.671875                0   \n",
       "3       2c12284ed2       3 -0.842422  0.093750 -0.671875                0   \n",
       "4       2c12284ed2       4 -0.828125  0.093750 -0.671875                0   \n",
       "...            ...     ...       ...       ...       ...              ...   \n",
       "190267  7030643376  190267 -0.910985 -0.087437 -0.307493                0   \n",
       "190268  7030643376  190268 -0.905326 -0.088745 -0.301735                0   \n",
       "190269  7030643376  190269 -0.898856 -0.087155 -0.299521                0   \n",
       "190270  7030643376  190270 -0.895578 -0.084967 -0.299579                0   \n",
       "190271  7030643376  190271 -0.887483 -0.084099 -0.302229                0   \n",
       "\n",
       "        Turn  Walking  Valid   Task  All_zero  \n",
       "0          0        0  False  False       1.0  \n",
       "1          0        0  False  False       1.0  \n",
       "2          0        0  False  False       1.0  \n",
       "3          0        0  False  False       1.0  \n",
       "4          0        0  False  False       1.0  \n",
       "...      ...      ...    ...    ...       ...  \n",
       "190267     0        0  False  False       1.0  \n",
       "190268     0        0  False  False       1.0  \n",
       "190269     0        0  False  False       1.0  \n",
       "190270     0        0  False  False       1.0  \n",
       "190271     0        0  False  False       1.0  \n",
       "\n",
       "[13525702 rows x 11 columns]"
      ]
     },
     "execution_count": 10,
     "metadata": {},
     "output_type": "execute_result"
    }
   ],
   "source": [
    "full_defog_dataset.loc[condition, 'All_zero'] = 1\n",
    "full_defog_dataset.loc[condition_2, 'All_zero'] = 0\n",
    "full_defog_dataset"
   ]
  },
  {
   "cell_type": "code",
   "execution_count": 11,
   "metadata": {},
   "outputs": [
    {
     "data": {
      "text/plain": [
       "True"
      ]
     },
     "execution_count": 11,
     "metadata": {},
     "output_type": "execute_result"
    }
   ],
   "source": [
    "full_defog_dataset.shape[0] == full_defog_dataset[condition].shape[0] + full_defog_dataset[condition_2].shape[0]"
   ]
  },
  {
   "cell_type": "code",
   "execution_count": 12,
   "metadata": {},
   "outputs": [
    {
     "data": {
      "text/plain": [
       "(13525702, 12839197, 686505)"
      ]
     },
     "execution_count": 12,
     "metadata": {},
     "output_type": "execute_result"
    }
   ],
   "source": [
    "full_defog_dataset.shape[0] , full_defog_dataset[condition].shape[0] , full_defog_dataset[condition_2].shape[0]"
   ]
  },
  {
   "cell_type": "code",
   "execution_count": 13,
   "metadata": {},
   "outputs": [],
   "source": [
    "# # Save the dataset\n",
    "\n",
    "# full_defog_dataset.to_parquet('Data/raw/full_defog_dataset.parquet')\n",
    "# full_defog_dataset.to_csv('Data/raw/full_defog_dataset.csv')"
   ]
  },
  {
   "attachments": {},
   "cell_type": "markdown",
   "metadata": {},
   "source": [
    "### Look around the data"
   ]
  },
  {
   "cell_type": "code",
   "execution_count": 14,
   "metadata": {},
   "outputs": [
    {
     "data": {
      "text/plain": [
       "0    13525202\n",
       "1         500\n",
       "Name: StartHesitation, dtype: int64"
      ]
     },
     "execution_count": 14,
     "metadata": {},
     "output_type": "execute_result"
    }
   ],
   "source": [
    "full_defog_dataset.StartHesitation.value_counts()"
   ]
  },
  {
   "cell_type": "code",
   "execution_count": 15,
   "metadata": {},
   "outputs": [
    {
     "data": {
      "text/plain": [
       "0    12938216\n",
       "1      587486\n",
       "Name: Turn, dtype: int64"
      ]
     },
     "execution_count": 15,
     "metadata": {},
     "output_type": "execute_result"
    }
   ],
   "source": [
    "full_defog_dataset.Turn.value_counts()"
   ]
  },
  {
   "cell_type": "code",
   "execution_count": 16,
   "metadata": {},
   "outputs": [
    {
     "data": {
      "text/plain": [
       "0    13427183\n",
       "1       98519\n",
       "Name: Walking, dtype: int64"
      ]
     },
     "execution_count": 16,
     "metadata": {},
     "output_type": "execute_result"
    }
   ],
   "source": [
    "full_defog_dataset.Walking.value_counts()"
   ]
  },
  {
   "cell_type": "code",
   "execution_count": 17,
   "metadata": {},
   "outputs": [
    {
     "data": {
      "text/plain": [
       "(13525702, 11)"
      ]
     },
     "execution_count": 17,
     "metadata": {},
     "output_type": "execute_result"
    }
   ],
   "source": [
    "full_defog_dataset.shape"
   ]
  },
  {
   "cell_type": "code",
   "execution_count": 18,
   "metadata": {},
   "outputs": [
    {
     "data": {
      "text/html": [
       "<div>\n",
       "<style scoped>\n",
       "    .dataframe tbody tr th:only-of-type {\n",
       "        vertical-align: middle;\n",
       "    }\n",
       "\n",
       "    .dataframe tbody tr th {\n",
       "        vertical-align: top;\n",
       "    }\n",
       "\n",
       "    .dataframe thead th {\n",
       "        text-align: right;\n",
       "    }\n",
       "</style>\n",
       "<table border=\"1\" class=\"dataframe\">\n",
       "  <thead>\n",
       "    <tr style=\"text-align: right;\">\n",
       "      <th></th>\n",
       "      <th>ID</th>\n",
       "      <th>Time</th>\n",
       "      <th>AccV</th>\n",
       "      <th>AccML</th>\n",
       "      <th>AccAP</th>\n",
       "      <th>StartHesitation</th>\n",
       "      <th>Turn</th>\n",
       "      <th>Walking</th>\n",
       "      <th>Valid</th>\n",
       "      <th>Task</th>\n",
       "      <th>All_zero</th>\n",
       "    </tr>\n",
       "  </thead>\n",
       "  <tbody>\n",
       "    <tr>\n",
       "      <th>0</th>\n",
       "      <td>2c12284ed2</td>\n",
       "      <td>0</td>\n",
       "      <td>-0.843750</td>\n",
       "      <td>0.09375</td>\n",
       "      <td>-0.671875</td>\n",
       "      <td>0</td>\n",
       "      <td>0</td>\n",
       "      <td>0</td>\n",
       "      <td>False</td>\n",
       "      <td>False</td>\n",
       "      <td>1.0</td>\n",
       "    </tr>\n",
       "    <tr>\n",
       "      <th>1</th>\n",
       "      <td>2c12284ed2</td>\n",
       "      <td>1</td>\n",
       "      <td>-0.843750</td>\n",
       "      <td>0.09375</td>\n",
       "      <td>-0.671875</td>\n",
       "      <td>0</td>\n",
       "      <td>0</td>\n",
       "      <td>0</td>\n",
       "      <td>False</td>\n",
       "      <td>False</td>\n",
       "      <td>1.0</td>\n",
       "    </tr>\n",
       "    <tr>\n",
       "      <th>2</th>\n",
       "      <td>2c12284ed2</td>\n",
       "      <td>2</td>\n",
       "      <td>-0.843750</td>\n",
       "      <td>0.09375</td>\n",
       "      <td>-0.671875</td>\n",
       "      <td>0</td>\n",
       "      <td>0</td>\n",
       "      <td>0</td>\n",
       "      <td>False</td>\n",
       "      <td>False</td>\n",
       "      <td>1.0</td>\n",
       "    </tr>\n",
       "    <tr>\n",
       "      <th>3</th>\n",
       "      <td>2c12284ed2</td>\n",
       "      <td>3</td>\n",
       "      <td>-0.842422</td>\n",
       "      <td>0.09375</td>\n",
       "      <td>-0.671875</td>\n",
       "      <td>0</td>\n",
       "      <td>0</td>\n",
       "      <td>0</td>\n",
       "      <td>False</td>\n",
       "      <td>False</td>\n",
       "      <td>1.0</td>\n",
       "    </tr>\n",
       "    <tr>\n",
       "      <th>4</th>\n",
       "      <td>2c12284ed2</td>\n",
       "      <td>4</td>\n",
       "      <td>-0.828125</td>\n",
       "      <td>0.09375</td>\n",
       "      <td>-0.671875</td>\n",
       "      <td>0</td>\n",
       "      <td>0</td>\n",
       "      <td>0</td>\n",
       "      <td>False</td>\n",
       "      <td>False</td>\n",
       "      <td>1.0</td>\n",
       "    </tr>\n",
       "  </tbody>\n",
       "</table>\n",
       "</div>"
      ],
      "text/plain": [
       "           ID  Time      AccV    AccML     AccAP  StartHesitation  Turn  \\\n",
       "0  2c12284ed2     0 -0.843750  0.09375 -0.671875                0     0   \n",
       "1  2c12284ed2     1 -0.843750  0.09375 -0.671875                0     0   \n",
       "2  2c12284ed2     2 -0.843750  0.09375 -0.671875                0     0   \n",
       "3  2c12284ed2     3 -0.842422  0.09375 -0.671875                0     0   \n",
       "4  2c12284ed2     4 -0.828125  0.09375 -0.671875                0     0   \n",
       "\n",
       "   Walking  Valid   Task  All_zero  \n",
       "0        0  False  False       1.0  \n",
       "1        0  False  False       1.0  \n",
       "2        0  False  False       1.0  \n",
       "3        0  False  False       1.0  \n",
       "4        0  False  False       1.0  "
      ]
     },
     "execution_count": 18,
     "metadata": {},
     "output_type": "execute_result"
    }
   ],
   "source": [
    "full_defog_dataset.head()"
   ]
  },
  {
   "cell_type": "code",
   "execution_count": 19,
   "metadata": {},
   "outputs": [
    {
     "data": {
      "text/plain": [
       "686505"
      ]
     },
     "execution_count": 19,
     "metadata": {},
     "output_type": "execute_result"
    }
   ],
   "source": [
    "full_defog_dataset[condition_2].shape[0]"
   ]
  },
  {
   "cell_type": "code",
   "execution_count": 20,
   "metadata": {},
   "outputs": [
    {
     "data": {
      "text/plain": [
       "5.075559109612204"
      ]
     },
     "execution_count": 20,
     "metadata": {},
     "output_type": "execute_result"
    }
   ],
   "source": [
    "### Percentage of dataset where one label is true\n",
    "\n",
    "(full_defog_dataset[condition_2].shape[0]/full_defog_dataset.shape[0]) * 100"
   ]
  },
  {
   "cell_type": "code",
   "execution_count": 21,
   "metadata": {},
   "outputs": [
    {
     "data": {
      "text/plain": [
       "(12839197, 11)"
      ]
     },
     "execution_count": 21,
     "metadata": {},
     "output_type": "execute_result"
    }
   ],
   "source": [
    "# condition for where all 3 labels are true\n",
    "full_defog_dataset[condition].shape"
   ]
  },
  {
   "cell_type": "code",
   "execution_count": 22,
   "metadata": {},
   "outputs": [
    {
     "data": {
      "text/plain": [
       "13525702"
      ]
     },
     "execution_count": 22,
     "metadata": {},
     "output_type": "execute_result"
    }
   ],
   "source": [
    "full_defog_dataset.shape[0]"
   ]
  },
  {
   "cell_type": "code",
   "execution_count": 23,
   "metadata": {},
   "outputs": [
    {
     "data": {
      "text/html": [
       "<div>\n",
       "<style scoped>\n",
       "    .dataframe tbody tr th:only-of-type {\n",
       "        vertical-align: middle;\n",
       "    }\n",
       "\n",
       "    .dataframe tbody tr th {\n",
       "        vertical-align: top;\n",
       "    }\n",
       "\n",
       "    .dataframe thead th {\n",
       "        text-align: right;\n",
       "    }\n",
       "</style>\n",
       "<table border=\"1\" class=\"dataframe\">\n",
       "  <thead>\n",
       "    <tr style=\"text-align: right;\">\n",
       "      <th></th>\n",
       "      <th>ID</th>\n",
       "      <th>Time</th>\n",
       "      <th>AccV</th>\n",
       "      <th>AccML</th>\n",
       "      <th>AccAP</th>\n",
       "      <th>StartHesitation</th>\n",
       "      <th>Turn</th>\n",
       "      <th>Walking</th>\n",
       "      <th>Valid</th>\n",
       "      <th>Task</th>\n",
       "      <th>All_zero</th>\n",
       "    </tr>\n",
       "  </thead>\n",
       "  <tbody>\n",
       "    <tr>\n",
       "      <th>0</th>\n",
       "      <td>2c12284ed2</td>\n",
       "      <td>0</td>\n",
       "      <td>-0.843750</td>\n",
       "      <td>0.09375</td>\n",
       "      <td>-0.671875</td>\n",
       "      <td>0</td>\n",
       "      <td>0</td>\n",
       "      <td>0</td>\n",
       "      <td>False</td>\n",
       "      <td>False</td>\n",
       "      <td>1.0</td>\n",
       "    </tr>\n",
       "    <tr>\n",
       "      <th>1</th>\n",
       "      <td>2c12284ed2</td>\n",
       "      <td>1</td>\n",
       "      <td>-0.843750</td>\n",
       "      <td>0.09375</td>\n",
       "      <td>-0.671875</td>\n",
       "      <td>0</td>\n",
       "      <td>0</td>\n",
       "      <td>0</td>\n",
       "      <td>False</td>\n",
       "      <td>False</td>\n",
       "      <td>1.0</td>\n",
       "    </tr>\n",
       "    <tr>\n",
       "      <th>2</th>\n",
       "      <td>2c12284ed2</td>\n",
       "      <td>2</td>\n",
       "      <td>-0.843750</td>\n",
       "      <td>0.09375</td>\n",
       "      <td>-0.671875</td>\n",
       "      <td>0</td>\n",
       "      <td>0</td>\n",
       "      <td>0</td>\n",
       "      <td>False</td>\n",
       "      <td>False</td>\n",
       "      <td>1.0</td>\n",
       "    </tr>\n",
       "    <tr>\n",
       "      <th>3</th>\n",
       "      <td>2c12284ed2</td>\n",
       "      <td>3</td>\n",
       "      <td>-0.842422</td>\n",
       "      <td>0.09375</td>\n",
       "      <td>-0.671875</td>\n",
       "      <td>0</td>\n",
       "      <td>0</td>\n",
       "      <td>0</td>\n",
       "      <td>False</td>\n",
       "      <td>False</td>\n",
       "      <td>1.0</td>\n",
       "    </tr>\n",
       "    <tr>\n",
       "      <th>4</th>\n",
       "      <td>2c12284ed2</td>\n",
       "      <td>4</td>\n",
       "      <td>-0.828125</td>\n",
       "      <td>0.09375</td>\n",
       "      <td>-0.671875</td>\n",
       "      <td>0</td>\n",
       "      <td>0</td>\n",
       "      <td>0</td>\n",
       "      <td>False</td>\n",
       "      <td>False</td>\n",
       "      <td>1.0</td>\n",
       "    </tr>\n",
       "  </tbody>\n",
       "</table>\n",
       "</div>"
      ],
      "text/plain": [
       "           ID  Time      AccV    AccML     AccAP  StartHesitation  Turn  \\\n",
       "0  2c12284ed2     0 -0.843750  0.09375 -0.671875                0     0   \n",
       "1  2c12284ed2     1 -0.843750  0.09375 -0.671875                0     0   \n",
       "2  2c12284ed2     2 -0.843750  0.09375 -0.671875                0     0   \n",
       "3  2c12284ed2     3 -0.842422  0.09375 -0.671875                0     0   \n",
       "4  2c12284ed2     4 -0.828125  0.09375 -0.671875                0     0   \n",
       "\n",
       "   Walking  Valid   Task  All_zero  \n",
       "0        0  False  False       1.0  \n",
       "1        0  False  False       1.0  \n",
       "2        0  False  False       1.0  \n",
       "3        0  False  False       1.0  \n",
       "4        0  False  False       1.0  "
      ]
     },
     "execution_count": 23,
     "metadata": {},
     "output_type": "execute_result"
    }
   ],
   "source": [
    "full_defog_dataset.head()"
   ]
  },
  {
   "cell_type": "code",
   "execution_count": 24,
   "metadata": {},
   "outputs": [
    {
     "data": {
      "text/html": [
       "<div>\n",
       "<style scoped>\n",
       "    .dataframe tbody tr th:only-of-type {\n",
       "        vertical-align: middle;\n",
       "    }\n",
       "\n",
       "    .dataframe tbody tr th {\n",
       "        vertical-align: top;\n",
       "    }\n",
       "\n",
       "    .dataframe thead th {\n",
       "        text-align: right;\n",
       "    }\n",
       "</style>\n",
       "<table border=\"1\" class=\"dataframe\">\n",
       "  <thead>\n",
       "    <tr style=\"text-align: right;\">\n",
       "      <th></th>\n",
       "      <th>count</th>\n",
       "      <th>mean</th>\n",
       "      <th>std</th>\n",
       "      <th>min</th>\n",
       "      <th>25%</th>\n",
       "      <th>50%</th>\n",
       "      <th>75%</th>\n",
       "      <th>max</th>\n",
       "    </tr>\n",
       "  </thead>\n",
       "  <tbody>\n",
       "    <tr>\n",
       "      <th>Time</th>\n",
       "      <td>13525702.0</td>\n",
       "      <td>86611.589610</td>\n",
       "      <td>64791.572173</td>\n",
       "      <td>0.000000</td>\n",
       "      <td>37256.000000</td>\n",
       "      <td>75149.000000</td>\n",
       "      <td>121179.000000</td>\n",
       "      <td>415387.000000</td>\n",
       "    </tr>\n",
       "    <tr>\n",
       "      <th>AccV</th>\n",
       "      <td>13525702.0</td>\n",
       "      <td>-0.940173</td>\n",
       "      <td>0.086065</td>\n",
       "      <td>-6.024701</td>\n",
       "      <td>-0.986571</td>\n",
       "      <td>-0.953125</td>\n",
       "      <td>-0.906250</td>\n",
       "      <td>4.458365</td>\n",
       "    </tr>\n",
       "    <tr>\n",
       "      <th>AccML</th>\n",
       "      <td>13525702.0</td>\n",
       "      <td>0.001173</td>\n",
       "      <td>0.120008</td>\n",
       "      <td>-4.059201</td>\n",
       "      <td>-0.062500</td>\n",
       "      <td>0.002385</td>\n",
       "      <td>0.078125</td>\n",
       "      <td>4.524038</td>\n",
       "    </tr>\n",
       "    <tr>\n",
       "      <th>AccAP</th>\n",
       "      <td>13525702.0</td>\n",
       "      <td>-0.130615</td>\n",
       "      <td>0.282389</td>\n",
       "      <td>-5.118650</td>\n",
       "      <td>-0.312500</td>\n",
       "      <td>-0.182031</td>\n",
       "      <td>0.031250</td>\n",
       "      <td>4.388132</td>\n",
       "    </tr>\n",
       "    <tr>\n",
       "      <th>StartHesitation</th>\n",
       "      <td>13525702.0</td>\n",
       "      <td>0.000037</td>\n",
       "      <td>0.006080</td>\n",
       "      <td>0.000000</td>\n",
       "      <td>0.000000</td>\n",
       "      <td>0.000000</td>\n",
       "      <td>0.000000</td>\n",
       "      <td>1.000000</td>\n",
       "    </tr>\n",
       "    <tr>\n",
       "      <th>Turn</th>\n",
       "      <td>13525702.0</td>\n",
       "      <td>0.043435</td>\n",
       "      <td>0.203834</td>\n",
       "      <td>0.000000</td>\n",
       "      <td>0.000000</td>\n",
       "      <td>0.000000</td>\n",
       "      <td>0.000000</td>\n",
       "      <td>1.000000</td>\n",
       "    </tr>\n",
       "    <tr>\n",
       "      <th>Walking</th>\n",
       "      <td>13525702.0</td>\n",
       "      <td>0.007284</td>\n",
       "      <td>0.085034</td>\n",
       "      <td>0.000000</td>\n",
       "      <td>0.000000</td>\n",
       "      <td>0.000000</td>\n",
       "      <td>0.000000</td>\n",
       "      <td>1.000000</td>\n",
       "    </tr>\n",
       "    <tr>\n",
       "      <th>All_zero</th>\n",
       "      <td>13525702.0</td>\n",
       "      <td>0.949244</td>\n",
       "      <td>0.219498</td>\n",
       "      <td>0.000000</td>\n",
       "      <td>1.000000</td>\n",
       "      <td>1.000000</td>\n",
       "      <td>1.000000</td>\n",
       "      <td>1.000000</td>\n",
       "    </tr>\n",
       "  </tbody>\n",
       "</table>\n",
       "</div>"
      ],
      "text/plain": [
       "                      count          mean           std       min  \\\n",
       "Time             13525702.0  86611.589610  64791.572173  0.000000   \n",
       "AccV             13525702.0     -0.940173      0.086065 -6.024701   \n",
       "AccML            13525702.0      0.001173      0.120008 -4.059201   \n",
       "AccAP            13525702.0     -0.130615      0.282389 -5.118650   \n",
       "StartHesitation  13525702.0      0.000037      0.006080  0.000000   \n",
       "Turn             13525702.0      0.043435      0.203834  0.000000   \n",
       "Walking          13525702.0      0.007284      0.085034  0.000000   \n",
       "All_zero         13525702.0      0.949244      0.219498  0.000000   \n",
       "\n",
       "                          25%           50%            75%            max  \n",
       "Time             37256.000000  75149.000000  121179.000000  415387.000000  \n",
       "AccV                -0.986571     -0.953125      -0.906250       4.458365  \n",
       "AccML               -0.062500      0.002385       0.078125       4.524038  \n",
       "AccAP               -0.312500     -0.182031       0.031250       4.388132  \n",
       "StartHesitation      0.000000      0.000000       0.000000       1.000000  \n",
       "Turn                 0.000000      0.000000       0.000000       1.000000  \n",
       "Walking              0.000000      0.000000       0.000000       1.000000  \n",
       "All_zero             1.000000      1.000000       1.000000       1.000000  "
      ]
     },
     "execution_count": 24,
     "metadata": {},
     "output_type": "execute_result"
    }
   ],
   "source": [
    "full_defog_dataset.describe().transpose()"
   ]
  },
  {
   "cell_type": "code",
   "execution_count": 25,
   "metadata": {},
   "outputs": [
    {
     "data": {
      "text/plain": [
       "(-5.11864978411452, 4.38813217402119, -4.05920119812201, 4.52403760623424)"
      ]
     },
     "execution_count": 25,
     "metadata": {},
     "output_type": "execute_result"
    },
    {
     "data": {
      "image/png": "[encoded data removed]",
      "text/plain": [
       "<Figure size 640x480 with 2 Axes>"
      ]
     },
     "metadata": {},
     "output_type": "display_data"
    }
   ],
   "source": [
    "plt.hist2d(full_defog_dataset['AccAP'], full_defog_dataset['AccML'], bins=(50, 50), vmax=10)\n",
    "plt.colorbar()\n",
    "plt.xlabel('X [AccAP]')\n",
    "plt.ylabel('Y [AccML]')\n",
    "ax = plt.gca()\n",
    "ax.axis('tight')\n"
   ]
  },
  {
   "cell_type": "code",
   "execution_count": 26,
   "metadata": {},
   "outputs": [
    {
     "data": {
      "text/plain": [
       "(-5.11864978411452, 4.38813217402119, -6.0247007636841, 4.45836454343802)"
      ]
     },
     "execution_count": 26,
     "metadata": {},
     "output_type": "execute_result"
    },
    {
     "data": {
      "image/png": "[encoded data removed]",
      "text/plain": [
       "<Figure size 640x480 with 2 Axes>"
      ]
     },
     "metadata": {},
     "output_type": "display_data"
    }
   ],
   "source": [
    "plt.hist2d(full_defog_dataset['AccAP'], full_defog_dataset['AccV'], bins=(50, 50), vmax=10)\n",
    "plt.colorbar()\n",
    "plt.xlabel('X [AccAP]')\n",
    "plt.ylabel('Y [AccV]')\n",
    "ax = plt.gca()\n",
    "ax.axis('tight')\n"
   ]
  },
  {
   "cell_type": "code",
   "execution_count": 27,
   "metadata": {},
   "outputs": [
    {
     "data": {
      "text/plain": [
       "(-6.0247007636841, 4.45836454343802, -4.05920119812201, 4.52403760623424)"
      ]
     },
     "execution_count": 27,
     "metadata": {},
     "output_type": "execute_result"
    },
    {
     "data": {
      "image/png": "[encoded data removed]",
      "text/plain": [
       "<Figure size 640x480 with 2 Axes>"
      ]
     },
     "metadata": {},
     "output_type": "display_data"
    }
   ],
   "source": [
    "plt.hist2d(full_defog_dataset['AccV'], full_defog_dataset['AccML'], bins=(50, 50), vmax=10)\n",
    "plt.colorbar()\n",
    "plt.xlabel('X [AccV]')\n",
    "plt.ylabel('Y [AccML]')\n",
    "ax = plt.gca()\n",
    "ax.axis('tight')\n"
   ]
  },
  {
   "attachments": {},
   "cell_type": "markdown",
   "metadata": {},
   "source": [
    "#### Remove some unecessary labels and clean"
   ]
  },
  {
   "cell_type": "code",
   "execution_count": 28,
   "metadata": {},
   "outputs": [
    {
     "data": {
      "text/html": [
       "<div>\n",
       "<style scoped>\n",
       "    .dataframe tbody tr th:only-of-type {\n",
       "        vertical-align: middle;\n",
       "    }\n",
       "\n",
       "    .dataframe tbody tr th {\n",
       "        vertical-align: top;\n",
       "    }\n",
       "\n",
       "    .dataframe thead th {\n",
       "        text-align: right;\n",
       "    }\n",
       "</style>\n",
       "<table border=\"1\" class=\"dataframe\">\n",
       "  <thead>\n",
       "    <tr style=\"text-align: right;\">\n",
       "      <th></th>\n",
       "      <th>AccV</th>\n",
       "      <th>AccML</th>\n",
       "      <th>AccAP</th>\n",
       "      <th>StartHesitation</th>\n",
       "      <th>Turn</th>\n",
       "      <th>Walking</th>\n",
       "      <th>All_zero</th>\n",
       "    </tr>\n",
       "  </thead>\n",
       "  <tbody>\n",
       "    <tr>\n",
       "      <th>0</th>\n",
       "      <td>-0.843750</td>\n",
       "      <td>0.09375</td>\n",
       "      <td>-0.671875</td>\n",
       "      <td>0</td>\n",
       "      <td>0</td>\n",
       "      <td>0</td>\n",
       "      <td>1.0</td>\n",
       "    </tr>\n",
       "    <tr>\n",
       "      <th>1</th>\n",
       "      <td>-0.843750</td>\n",
       "      <td>0.09375</td>\n",
       "      <td>-0.671875</td>\n",
       "      <td>0</td>\n",
       "      <td>0</td>\n",
       "      <td>0</td>\n",
       "      <td>1.0</td>\n",
       "    </tr>\n",
       "    <tr>\n",
       "      <th>2</th>\n",
       "      <td>-0.843750</td>\n",
       "      <td>0.09375</td>\n",
       "      <td>-0.671875</td>\n",
       "      <td>0</td>\n",
       "      <td>0</td>\n",
       "      <td>0</td>\n",
       "      <td>1.0</td>\n",
       "    </tr>\n",
       "    <tr>\n",
       "      <th>3</th>\n",
       "      <td>-0.842422</td>\n",
       "      <td>0.09375</td>\n",
       "      <td>-0.671875</td>\n",
       "      <td>0</td>\n",
       "      <td>0</td>\n",
       "      <td>0</td>\n",
       "      <td>1.0</td>\n",
       "    </tr>\n",
       "    <tr>\n",
       "      <th>4</th>\n",
       "      <td>-0.828125</td>\n",
       "      <td>0.09375</td>\n",
       "      <td>-0.671875</td>\n",
       "      <td>0</td>\n",
       "      <td>0</td>\n",
       "      <td>0</td>\n",
       "      <td>1.0</td>\n",
       "    </tr>\n",
       "  </tbody>\n",
       "</table>\n",
       "</div>"
      ],
      "text/plain": [
       "       AccV    AccML     AccAP  StartHesitation  Turn  Walking  All_zero\n",
       "0 -0.843750  0.09375 -0.671875                0     0        0       1.0\n",
       "1 -0.843750  0.09375 -0.671875                0     0        0       1.0\n",
       "2 -0.843750  0.09375 -0.671875                0     0        0       1.0\n",
       "3 -0.842422  0.09375 -0.671875                0     0        0       1.0\n",
       "4 -0.828125  0.09375 -0.671875                0     0        0       1.0"
      ]
     },
     "execution_count": 28,
     "metadata": {},
     "output_type": "execute_result"
    }
   ],
   "source": [
    "remove_col = ['ID','Time', 'Valid', 'Task']\n",
    "clean_defog_dataset = full_defog_dataset.drop(full_defog_dataset[remove_col],axis=1)\n",
    "clean_defog_dataset.head()"
   ]
  },
  {
   "cell_type": "code",
   "execution_count": 29,
   "metadata": {},
   "outputs": [
    {
     "data": {
      "text/plain": [
       "(1492483,\n",
       " AccV               0\n",
       " AccML              0\n",
       " AccAP              0\n",
       " StartHesitation    0\n",
       " Turn               0\n",
       " Walking            0\n",
       " All_zero           0\n",
       " dtype: int64)"
      ]
     },
     "execution_count": 29,
     "metadata": {},
     "output_type": "execute_result"
    }
   ],
   "source": [
    "# check duplication and null\n",
    "\n",
    "clean_defog_dataset.duplicated().sum(), clean_defog_dataset.isna().sum()"
   ]
  },
  {
   "cell_type": "code",
   "execution_count": 30,
   "metadata": {},
   "outputs": [
    {
     "data": {
      "text/plain": [
       "0"
      ]
     },
     "execution_count": 30,
     "metadata": {},
     "output_type": "execute_result"
    }
   ],
   "source": [
    "clean_defog_dataset.drop_duplicates(inplace=True)\n",
    "clean_defog_dataset.duplicated().sum()"
   ]
  },
  {
   "cell_type": "code",
   "execution_count": 31,
   "metadata": {},
   "outputs": [
    {
     "data": {
      "text/plain": [
       "(12033219, 7)"
      ]
     },
     "execution_count": 31,
     "metadata": {},
     "output_type": "execute_result"
    }
   ],
   "source": [
    "clean_defog_dataset.shape"
   ]
  },
  {
   "cell_type": "code",
   "execution_count": 32,
   "metadata": {},
   "outputs": [
    {
     "data": {
      "text/html": [
       "<div>\n",
       "<style scoped>\n",
       "    .dataframe tbody tr th:only-of-type {\n",
       "        vertical-align: middle;\n",
       "    }\n",
       "\n",
       "    .dataframe tbody tr th {\n",
       "        vertical-align: top;\n",
       "    }\n",
       "\n",
       "    .dataframe thead th {\n",
       "        text-align: right;\n",
       "    }\n",
       "</style>\n",
       "<table border=\"1\" class=\"dataframe\">\n",
       "  <thead>\n",
       "    <tr style=\"text-align: right;\">\n",
       "      <th></th>\n",
       "      <th>AccV</th>\n",
       "      <th>AccML</th>\n",
       "      <th>AccAP</th>\n",
       "      <th>StartHesitation</th>\n",
       "      <th>Turn</th>\n",
       "      <th>Walking</th>\n",
       "      <th>All_zero</th>\n",
       "    </tr>\n",
       "  </thead>\n",
       "  <tbody>\n",
       "    <tr>\n",
       "      <th>0</th>\n",
       "      <td>-0.843750</td>\n",
       "      <td>0.09375</td>\n",
       "      <td>-0.671875</td>\n",
       "      <td>0</td>\n",
       "      <td>0</td>\n",
       "      <td>0</td>\n",
       "      <td>1.0</td>\n",
       "    </tr>\n",
       "    <tr>\n",
       "      <th>3</th>\n",
       "      <td>-0.842422</td>\n",
       "      <td>0.09375</td>\n",
       "      <td>-0.671875</td>\n",
       "      <td>0</td>\n",
       "      <td>0</td>\n",
       "      <td>0</td>\n",
       "      <td>1.0</td>\n",
       "    </tr>\n",
       "    <tr>\n",
       "      <th>4</th>\n",
       "      <td>-0.828125</td>\n",
       "      <td>0.09375</td>\n",
       "      <td>-0.671875</td>\n",
       "      <td>0</td>\n",
       "      <td>0</td>\n",
       "      <td>0</td>\n",
       "      <td>1.0</td>\n",
       "    </tr>\n",
       "    <tr>\n",
       "      <th>13</th>\n",
       "      <td>-0.828125</td>\n",
       "      <td>0.09375</td>\n",
       "      <td>-0.660301</td>\n",
       "      <td>0</td>\n",
       "      <td>0</td>\n",
       "      <td>0</td>\n",
       "      <td>1.0</td>\n",
       "    </tr>\n",
       "    <tr>\n",
       "      <th>14</th>\n",
       "      <td>-0.828125</td>\n",
       "      <td>0.09375</td>\n",
       "      <td>-0.666720</td>\n",
       "      <td>0</td>\n",
       "      <td>0</td>\n",
       "      <td>0</td>\n",
       "      <td>1.0</td>\n",
       "    </tr>\n",
       "  </tbody>\n",
       "</table>\n",
       "</div>"
      ],
      "text/plain": [
       "        AccV    AccML     AccAP  StartHesitation  Turn  Walking  All_zero\n",
       "0  -0.843750  0.09375 -0.671875                0     0        0       1.0\n",
       "3  -0.842422  0.09375 -0.671875                0     0        0       1.0\n",
       "4  -0.828125  0.09375 -0.671875                0     0        0       1.0\n",
       "13 -0.828125  0.09375 -0.660301                0     0        0       1.0\n",
       "14 -0.828125  0.09375 -0.666720                0     0        0       1.0"
      ]
     },
     "execution_count": 32,
     "metadata": {},
     "output_type": "execute_result"
    }
   ],
   "source": [
    "# clean_defog_dataset.to_parquet('Data/clean/clean_defog_dataset.parquet')\n",
    "clean_defog_dataset.head()"
   ]
  },
  {
   "cell_type": "code",
   "execution_count": 33,
   "metadata": {},
   "outputs": [
    {
     "data": {
      "text/plain": [
       "11377528"
      ]
     },
     "execution_count": 33,
     "metadata": {},
     "output_type": "execute_result"
    }
   ],
   "source": [
    "condition = (clean_defog_dataset.StartHesitation == 0) & (clean_defog_dataset.Turn == 0 ) & (clean_defog_dataset.Walking == 0)\n",
    "total_zero = clean_defog_dataset[condition].shape[0]\n",
    "total_zero"
   ]
  },
  {
   "cell_type": "code",
   "execution_count": 34,
   "metadata": {},
   "outputs": [
    {
     "data": {
      "text/plain": [
       "11377528"
      ]
     },
     "execution_count": 34,
     "metadata": {},
     "output_type": "execute_result"
    }
   ],
   "source": [
    "All_zero = clean_defog_dataset[clean_defog_dataset.All_zero == 1].shape[0]\n",
    "All_zero"
   ]
  },
  {
   "cell_type": "code",
   "execution_count": 35,
   "metadata": {},
   "outputs": [
    {
     "data": {
      "text/plain": [
       "492"
      ]
     },
     "execution_count": 35,
     "metadata": {},
     "output_type": "execute_result"
    }
   ],
   "source": [
    "a = clean_defog_dataset[clean_defog_dataset.StartHesitation == 1].shape[0]\n",
    "a"
   ]
  },
  {
   "cell_type": "code",
   "execution_count": 36,
   "metadata": {},
   "outputs": [
    {
     "data": {
      "text/plain": [
       "98225"
      ]
     },
     "execution_count": 36,
     "metadata": {},
     "output_type": "execute_result"
    }
   ],
   "source": [
    "b = clean_defog_dataset[clean_defog_dataset.Walking == 1].shape[0]\n",
    "b"
   ]
  },
  {
   "cell_type": "code",
   "execution_count": 37,
   "metadata": {},
   "outputs": [
    {
     "data": {
      "text/plain": [
       "556974"
      ]
     },
     "execution_count": 37,
     "metadata": {},
     "output_type": "execute_result"
    }
   ],
   "source": [
    "c = clean_defog_dataset[clean_defog_dataset.Turn == 1].shape[0]\n",
    "c"
   ]
  },
  {
   "cell_type": "code",
   "execution_count": 38,
   "metadata": {},
   "outputs": [
    {
     "data": {
      "text/plain": [
       "True"
      ]
     },
     "execution_count": 38,
     "metadata": {},
     "output_type": "execute_result"
    }
   ],
   "source": [
    "All_zero == total_zero"
   ]
  },
  {
   "cell_type": "code",
   "execution_count": 39,
   "metadata": {},
   "outputs": [
    {
     "data": {
      "text/plain": [
       "True"
      ]
     },
     "execution_count": 39,
     "metadata": {},
     "output_type": "execute_result"
    }
   ],
   "source": [
    "clean_defog_dataset.shape[0] == a + b + c + All_zero"
   ]
  },
  {
   "attachments": {},
   "cell_type": "markdown",
   "metadata": {},
   "source": [
    "### Feature and Labels"
   ]
  },
  {
   "cell_type": "code",
   "execution_count": 40,
   "metadata": {},
   "outputs": [],
   "source": [
    "feature_col = ['AccV','AccML','AccAP']\n",
    "label_col = ['StartHesitation','Turn','Walking', 'All_zero']\n",
    "\n",
    "feature_dataset = clean_defog_dataset[feature_col]\n",
    "label_dataset = clean_defog_dataset[label_col]"
   ]
  },
  {
   "cell_type": "code",
   "execution_count": 41,
   "metadata": {},
   "outputs": [
    {
     "data": {
      "text/plain": [
       "(        AccV    AccML     AccAP\n",
       " 0  -0.843750  0.09375 -0.671875\n",
       " 3  -0.842422  0.09375 -0.671875\n",
       " 4  -0.828125  0.09375 -0.671875\n",
       " 13 -0.828125  0.09375 -0.660301\n",
       " 14 -0.828125  0.09375 -0.666720,\n",
       "     StartHesitation  Turn  Walking  All_zero\n",
       " 0                 0     0        0       1.0\n",
       " 3                 0     0        0       1.0\n",
       " 4                 0     0        0       1.0\n",
       " 13                0     0        0       1.0\n",
       " 14                0     0        0       1.0)"
      ]
     },
     "execution_count": 41,
     "metadata": {},
     "output_type": "execute_result"
    }
   ],
   "source": [
    "feature_dataset.head(), label_dataset.head()"
   ]
  },
  {
   "attachments": {},
   "cell_type": "markdown",
   "metadata": {},
   "source": [
    "#### Oversampling with SMOTE"
   ]
  },
  {
   "cell_type": "code",
   "execution_count": 42,
   "metadata": {},
   "outputs": [],
   "source": [
    "from imblearn.over_sampling import SMOTE\n",
    "import numpy as np\n",
    "# Instantiate the MultiLabelUnderSampler\n",
    "over_sampler = SMOTE()\n",
    "\n",
    "# Undersample the dataset\n",
    "X_resampled, y_resampled = over_sampler.fit_resample(feature_dataset.to_numpy(), label_dataset.to_numpy())"
   ]
  },
  {
   "cell_type": "code",
   "execution_count": 43,
   "metadata": {},
   "outputs": [
    {
     "data": {
      "text/plain": [
       "(12033219, 3)"
      ]
     },
     "execution_count": 43,
     "metadata": {},
     "output_type": "execute_result"
    }
   ],
   "source": [
    "feature_dataset.shape"
   ]
  },
  {
   "cell_type": "code",
   "execution_count": 44,
   "metadata": {},
   "outputs": [
    {
     "data": {
      "text/plain": [
       "(45510112, 3)"
      ]
     },
     "execution_count": 44,
     "metadata": {},
     "output_type": "execute_result"
    }
   ],
   "source": [
    "SMOTE_features_dataset = pd.DataFrame(X_resampled, columns=feature_dataset.columns)\n",
    "SMOTE_features_dataset.shape"
   ]
  },
  {
   "cell_type": "code",
   "execution_count": 45,
   "metadata": {},
   "outputs": [
    {
     "data": {
      "text/plain": [
       "(45510112, 4)"
      ]
     },
     "execution_count": 45,
     "metadata": {},
     "output_type": "execute_result"
    }
   ],
   "source": [
    "SMOTE_labels_dataset = pd.DataFrame(y_resampled, columns=label_dataset.columns)\n",
    "SMOTE_labels_dataset.shape"
   ]
  },
  {
   "cell_type": "code",
   "execution_count": 46,
   "metadata": {},
   "outputs": [
    {
     "data": {
      "text/plain": [
       "(11377528, 11377528, 11377528, 11377528)"
      ]
     },
     "execution_count": 46,
     "metadata": {},
     "output_type": "execute_result"
    }
   ],
   "source": [
    "a = SMOTE_labels_dataset[SMOTE_labels_dataset.StartHesitation == 1].shape[0]\n",
    "b = SMOTE_labels_dataset[SMOTE_labels_dataset.Turn == 1].shape[0]\n",
    "c = SMOTE_labels_dataset[SMOTE_labels_dataset.Walking ==1].shape[0]\n",
    "d = SMOTE_labels_dataset[SMOTE_labels_dataset.All_zero == 1].shape[0]\n",
    "a , b, c, d"
   ]
  },
  {
   "cell_type": "code",
   "execution_count": 47,
   "metadata": {},
   "outputs": [
    {
     "data": {
      "text/plain": [
       "True"
      ]
     },
     "execution_count": 47,
     "metadata": {},
     "output_type": "execute_result"
    }
   ],
   "source": [
    "SMOTE_labels_dataset.shape[0] == a + b + c + d"
   ]
  },
  {
   "cell_type": "code",
   "execution_count": 48,
   "metadata": {},
   "outputs": [
    {
     "data": {
      "text/plain": [
       "45510112"
      ]
     },
     "execution_count": 48,
     "metadata": {},
     "output_type": "execute_result"
    }
   ],
   "source": [
    "oversampling_defog_dataset = pd.concat([SMOTE_features_dataset,SMOTE_labels_dataset], ignore_index= False, sort=False, axis=1)\n",
    "oversampling_defog_dataset.shape[0]"
   ]
  },
  {
   "cell_type": "code",
   "execution_count": 49,
   "metadata": {},
   "outputs": [
    {
     "data": {
      "text/html": [
       "<div>\n",
       "<style scoped>\n",
       "    .dataframe tbody tr th:only-of-type {\n",
       "        vertical-align: middle;\n",
       "    }\n",
       "\n",
       "    .dataframe tbody tr th {\n",
       "        vertical-align: top;\n",
       "    }\n",
       "\n",
       "    .dataframe thead th {\n",
       "        text-align: right;\n",
       "    }\n",
       "</style>\n",
       "<table border=\"1\" class=\"dataframe\">\n",
       "  <thead>\n",
       "    <tr style=\"text-align: right;\">\n",
       "      <th></th>\n",
       "      <th>AccV</th>\n",
       "      <th>AccML</th>\n",
       "      <th>AccAP</th>\n",
       "      <th>StartHesitation</th>\n",
       "      <th>Turn</th>\n",
       "      <th>Walking</th>\n",
       "      <th>All_zero</th>\n",
       "    </tr>\n",
       "  </thead>\n",
       "  <tbody>\n",
       "    <tr>\n",
       "      <th>0</th>\n",
       "      <td>-0.843750</td>\n",
       "      <td>0.09375</td>\n",
       "      <td>-0.671875</td>\n",
       "      <td>0</td>\n",
       "      <td>0</td>\n",
       "      <td>0</td>\n",
       "      <td>1</td>\n",
       "    </tr>\n",
       "    <tr>\n",
       "      <th>1</th>\n",
       "      <td>-0.842422</td>\n",
       "      <td>0.09375</td>\n",
       "      <td>-0.671875</td>\n",
       "      <td>0</td>\n",
       "      <td>0</td>\n",
       "      <td>0</td>\n",
       "      <td>1</td>\n",
       "    </tr>\n",
       "    <tr>\n",
       "      <th>2</th>\n",
       "      <td>-0.828125</td>\n",
       "      <td>0.09375</td>\n",
       "      <td>-0.671875</td>\n",
       "      <td>0</td>\n",
       "      <td>0</td>\n",
       "      <td>0</td>\n",
       "      <td>1</td>\n",
       "    </tr>\n",
       "    <tr>\n",
       "      <th>3</th>\n",
       "      <td>-0.828125</td>\n",
       "      <td>0.09375</td>\n",
       "      <td>-0.660301</td>\n",
       "      <td>0</td>\n",
       "      <td>0</td>\n",
       "      <td>0</td>\n",
       "      <td>1</td>\n",
       "    </tr>\n",
       "    <tr>\n",
       "      <th>4</th>\n",
       "      <td>-0.828125</td>\n",
       "      <td>0.09375</td>\n",
       "      <td>-0.666720</td>\n",
       "      <td>0</td>\n",
       "      <td>0</td>\n",
       "      <td>0</td>\n",
       "      <td>1</td>\n",
       "    </tr>\n",
       "  </tbody>\n",
       "</table>\n",
       "</div>"
      ],
      "text/plain": [
       "       AccV    AccML     AccAP  StartHesitation  Turn  Walking  All_zero\n",
       "0 -0.843750  0.09375 -0.671875                0     0        0         1\n",
       "1 -0.842422  0.09375 -0.671875                0     0        0         1\n",
       "2 -0.828125  0.09375 -0.671875                0     0        0         1\n",
       "3 -0.828125  0.09375 -0.660301                0     0        0         1\n",
       "4 -0.828125  0.09375 -0.666720                0     0        0         1"
      ]
     },
     "execution_count": 49,
     "metadata": {},
     "output_type": "execute_result"
    }
   ],
   "source": [
    "# oversampling_defog_dataset.to_parquet('Data/clean/oversampling_defog_dataset.parquet')\n",
    "oversampling_defog_dataset.head()"
   ]
  },
  {
   "attachments": {},
   "cell_type": "markdown",
   "metadata": {},
   "source": [
    "### 70% Train Data, 10% Validation Data, 20% Test Data\n",
    "\n",
    "\n",
    "80% Set Data(60% Train Data, 20% Validation Data) , 20% Test Data"
   ]
  },
  {
   "cell_type": "code",
   "execution_count": 50,
   "metadata": {},
   "outputs": [
    {
     "ename": "",
     "evalue": "",
     "output_type": "error",
     "traceback": [
      "\u001b[1;31mCanceled future for execute_request message before replies were done"
     ]
    },
    {
     "ename": "",
     "evalue": "",
     "output_type": "error",
     "traceback": [
      "\u001b[1;31mThe Kernel crashed while executing code in the the current cell or a previous cell. Please review the code in the cell(s) to identify a possible cause of the failure. Click <a href='https://aka.ms/vscodeJupyterKernelCrash'>here</a> for more info. View Jupyter <a href='command:jupyter.viewOutput'>log</a> for further details."
     ]
    }
   ],
   "source": [
    "from sklearn.model_selection import train_test_split\n",
    "import random \n",
    "random_seed = 54\n",
    "\n",
    "set_defog_data, test_defog_data = train_test_split(oversampling_defog_dataset, test_size=0.2, random_state=True)\n",
    "set_defog_data.shape, test_defog_data.shape"
   ]
  },
  {
   "cell_type": "code",
   "execution_count": null,
   "metadata": {},
   "outputs": [],
   "source": [
    "oversampling_defog_dataset.shape[0] == set_defog_data.shape[0] + test_defog_data.shape[0]"
   ]
  },
  {
   "cell_type": "code",
   "execution_count": null,
   "metadata": {},
   "outputs": [],
   "source": [
    "set_defog_data.head()"
   ]
  },
  {
   "attachments": {},
   "cell_type": "markdown",
   "metadata": {},
   "source": [
    "#### Check all class are equal\n"
   ]
  },
  {
   "cell_type": "code",
   "execution_count": null,
   "metadata": {},
   "outputs": [],
   "source": [
    "a = set_defog_data[set_defog_data.StartHesitation == 1].shape[0]\n",
    "b = set_defog_data[set_defog_data.Turn == 1].shape[0]\n",
    "c = set_defog_data[set_defog_data.Walking == 1].shape[0]\n",
    "d = set_defog_data[set_defog_data.All_zero == 1].shape[0]\n",
    "a, b, c, d"
   ]
  },
  {
   "cell_type": "code",
   "execution_count": null,
   "metadata": {},
   "outputs": [],
   "source": [
    "set_defog_data.shape[0] == a + b + c + d"
   ]
  },
  {
   "cell_type": "code",
   "execution_count": null,
   "metadata": {},
   "outputs": [],
   "source": [
    "a = test_defog_data[test_defog_data.StartHesitation == 1].shape[0]\n",
    "b = test_defog_data[test_defog_data.Turn == 1].shape[0]\n",
    "c = test_defog_data[test_defog_data.Walking == 1].shape[0]\n",
    "d = test_defog_data[test_defog_data.All_zero == 1].shape[0]\n",
    "a, b, c, d"
   ]
  },
  {
   "cell_type": "code",
   "execution_count": null,
   "metadata": {},
   "outputs": [],
   "source": [
    "test_tdcsfog_data.shape[0] == a + b + c + d"
   ]
  },
  {
   "cell_type": "code",
   "execution_count": null,
   "metadata": {},
   "outputs": [],
   "source": [
    "# # Save process data\n",
    "\n",
    "# set_tdcsfog_data.to_parquet('Data/Process/set_tdcsfog_data.parquet')\n",
    "# test_tdcsfog_data.to_parquet('Data/Process/test_tdcsfog_data.parquet')"
   ]
  },
  {
   "cell_type": "code",
   "execution_count": null,
   "metadata": {},
   "outputs": [],
   "source": [
    "test_tdcsfog_data.duplicated().sum()"
   ]
  },
  {
   "cell_type": "code",
   "execution_count": null,
   "metadata": {},
   "outputs": [],
   "source": [
    "set_tdcsfog_data.duplicated().sum()"
   ]
  }
 ],
 "metadata": {
  "kernelspec": {
   "display_name": "main",
   "language": "python",
   "name": "python3"
  },
  "language_info": {
   "codemirror_mode": {
    "name": "ipython",
    "version": 3
   },
   "file_extension": ".py",
   "mimetype": "text/x-python",
   "name": "python",
   "nbconvert_exporter": "python",
   "pygments_lexer": "ipython3",
   "version": "3.10.9"
  },
  "orig_nbformat": 4
 },
 "nbformat": 4,
 "nbformat_minor": 2
}
