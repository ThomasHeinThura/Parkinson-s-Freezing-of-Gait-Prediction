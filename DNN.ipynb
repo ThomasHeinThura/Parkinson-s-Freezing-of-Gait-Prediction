{
 "cells": [
  {
   "cell_type": "code",
   "execution_count": 1,
   "metadata": {},
   "outputs": [
    {
     "name": "stderr",
     "output_type": "stream",
     "text": [
      "2023-05-08 16:26:24.412813: I tensorflow/core/platform/cpu_feature_guard.cc:193] This TensorFlow binary is optimized with oneAPI Deep Neural Network Library (oneDNN) to use the following CPU instructions in performance-critical operations:  SSE4.1 SSE4.2 AVX AVX2 FMA\n",
      "To enable them in other operations, rebuild TensorFlow with the appropriate compiler flags.\n"
     ]
    }
   ],
   "source": [
    "import pandas as pd\n",
    "import numpy as np \n",
    "\n",
    "import tensorflow as tf\n",
    "from tensorflow.keras import layers\n",
    "from tensorflow import keras\n",
    "from datetime import datetime\n",
    "import os\n",
    "os.environ['TF_CPP_MIN_LOG_LEVEL'] = '3'\n",
    "tf.get_logger().setLevel('ERROR')\n",
    "tf.autograph.set_verbosity(1)\n",
    "tf.set_seed = 42\n",
    "\n",
    "\n",
    "# train_feature = np.load('Data/defog/train_feature.npy')\n",
    "# valid_feature = np.load('Data/defog/valid_feature.npy')\n",
    "# test_feature = np.load('Data/defog/test_feature.npy')\n",
    "# train_label = np.load('Data/defog/train_label.npy')\n",
    "# valid_label = np.load('Data/defog/valid_label.npy')\n",
    "# test_label = np.load('Data/defog/test_label.npy')\n"
   ]
  },
  {
   "cell_type": "code",
   "execution_count": 2,
   "metadata": {},
   "outputs": [],
   "source": [
    "# train_feature.shape, valid_feature.shape, train_label.shape, valid_label.shape, test_feature.shape, test_label.shape"
   ]
  },
  {
   "cell_type": "code",
   "execution_count": 3,
   "metadata": {},
   "outputs": [],
   "source": [
    "# # Building the model and pipeline for Tensorflow \n",
    "# # Preprocess the data\n",
    "# # Turn our data into TensorFlow Datasets\n",
    "# train_dataset = tf.data.Dataset.from_tensor_slices((train_feature, train_label))\n",
    "# train_dataset =  train_dataset.batch(32).prefetch(tf.data.AUTOTUNE)\n",
    "\n",
    "# valid_dataset = tf.data.Dataset.from_tensor_slices((valid_feature,valid_label))\n",
    "# valid_dataset = valid_dataset.batch(32).prefetch(tf.data.AUTOTUNE)\n",
    "\n",
    "# test_dataset = tf.data.Dataset.from_tensor_slices((test_feature,test_label))\n",
    "# test_dataset = test_dataset.batch(32).prefetch(tf.data.AUTOTUNE)"
   ]
  },
  {
   "cell_type": "code",
   "execution_count": 4,
   "metadata": {},
   "outputs": [],
   "source": [
    "# path = 'Data/defog/'\n",
    "# train_dataset.save(path+'train_dataset')\n",
    "# valid_dataset.save(path+'valid_dataset')\n",
    "# test_dataset.save(path+'test_dataset')"
   ]
  },
  {
   "cell_type": "code",
   "execution_count": 5,
   "metadata": {},
   "outputs": [],
   "source": [
    "path = 'Data/defog/'\n",
    "train_dataset = tf.data.Dataset.load(path+'train_dataset')\n",
    "valid_dataset = tf.data.Dataset.load(path+'valid_dataset')\n",
    "test_dataset =  tf.data.Dataset.load(path+'test_dataset')\n",
    "test_feature = np.load('Data/defog/test_feature.npy')\n",
    "test_label = np.load('Data/defog/test_label.npy')"
   ]
  },
  {
   "cell_type": "code",
   "execution_count": 6,
   "metadata": {},
   "outputs": [
    {
     "name": "stdout",
     "output_type": "stream",
     "text": [
      "Train : <_LoadDataset element_spec=(TensorSpec(shape=(None, 3), dtype=tf.float64, name=None), TensorSpec(shape=(None, 4), dtype=tf.int64, name=None))> \n",
      "Valid : <_LoadDataset element_spec=(TensorSpec(shape=(None, 3), dtype=tf.float64, name=None), TensorSpec(shape=(None, 4), dtype=tf.int64, name=None))> \n",
      "Test : <_LoadDataset element_spec=(TensorSpec(shape=(None, 3), dtype=tf.float64, name=None), TensorSpec(shape=(None, 4), dtype=tf.int64, name=None))>\n"
     ]
    }
   ],
   "source": [
    "# Check the data shape\n",
    "# print(\n",
    "#     f\"Train_feature : {train_feature.shape} {train_feature.dtype} \\n\" \n",
    "#     f\"Train_labels : {train_label.shape} {train_label.dtype} \\n\" \n",
    "#     f\"Valid_feature : {valid_feature.shape} {valid_feature.dtype} \\n\" \n",
    "#     f\"Valid_label : {valid_label.shape} {valid_label.dtype} \"\n",
    "#     ) \n",
    "\n",
    "print(f\"Train : {train_dataset} \\n\"\n",
    "      f\"Valid : {valid_dataset} \\n\" \n",
    "      f\"Test : {test_dataset}\")"
   ]
  },
  {
   "cell_type": "code",
   "execution_count": 7,
   "metadata": {},
   "outputs": [],
   "source": [
    "# Callbacks\n",
    "early_stopping = tf.keras.callbacks.EarlyStopping(monitor=\"val_loss\", # watch the val loss metric\n",
    "                                                  patience=5) # if val loss decreases for 3 epochs in a row, stop training\n",
    "\n",
    "reduce_lr = tf.keras.callbacks.ReduceLROnPlateau(monitor=\"val_loss\",  \n",
    "                                                 factor=0.2, # multiply the learning rate by 0.2 (reduce by 5x)\n",
    "                                                 patience=3,\n",
    "                                                 verbose=1, # print out when learning rate goes down \n",
    "                                                 min_lr=1e-7)"
   ]
  },
  {
   "cell_type": "code",
   "execution_count": 15,
   "metadata": {},
   "outputs": [
    {
     "name": "stdout",
     "output_type": "stream",
     "text": [
      "Model: \"model_1\"\n",
      "_________________________________________________________________\n",
      " Layer (type)                Output Shape              Param #   \n",
      "=================================================================\n",
      " input_layer (InputLayer)    [(None, 3)]               0         \n",
      "                                                                 \n",
      " dense_8 (Dense)             (None, 16)                64        \n",
      "                                                                 \n",
      " dense_9 (Dense)             (None, 32)                544       \n",
      "                                                                 \n",
      " dropout_3 (Dropout)         (None, 32)                0         \n",
      "                                                                 \n",
      " dense_10 (Dense)            (None, 32)                1056      \n",
      "                                                                 \n",
      " dense_11 (Dense)            (None, 16)                528       \n",
      "                                                                 \n",
      " output_layer (Dense)        (None, 4)                 68        \n",
      "                                                                 \n",
      "=================================================================\n",
      "Total params: 2,260\n",
      "Trainable params: 2,260\n",
      "Non-trainable params: 0\n",
      "_________________________________________________________________\n"
     ]
    }
   ],
   "source": [
    "# Build the model \n",
    "epoch = 25\n",
    "input_shape = 3\n",
    "\n",
    "inputs = layers.Input(shape=input_shape, name=\"input_layer\")\n",
    "x = layers.Dense(16, activation ='elu')(inputs)\n",
    "x = layers.Dense(32, activation = 'elu')(x)\n",
    "# x = layers.BatchNormalization()(x)\n",
    "x = layers.Dropout(0.1)(x)\n",
    "# x = layers.Dense(64, activation ='elu')(x)\n",
    "# x = layers.Dense(128, activation = 'elu')(x)\n",
    "# # x = layers.BatchNormalization()(x)\n",
    "# x = layers.Dropout(0.25)(x)\n",
    "# x = layers.Dense(128, activation ='elu')(x)\n",
    "# x = layers.Dense(64, activation = 'elu')(x)\n",
    "# # x = layers.BatchNormalization()(x)\n",
    "# x = layers.Dropout(0.5)(x)\n",
    "# x = layers.Flatten()(x)\n",
    "x = layers.Dense(32, activation=\"elu\")(x)\n",
    "x = layers.Dense(16, activation=\"elu\")(x)\n",
    "outputs = layers.Dense(4, activation=\"softmax\",name=\"output_layer\")(x)      \n",
    "model = tf.keras.Model(inputs, outputs) \n",
    "\n",
    "model.compile(loss=\"categorical_crossentropy\",\n",
    "              optimizer=tf.keras.optimizers.Adam(),\n",
    "              metrics=[\"accuracy\"])\n",
    "\n",
    "model.summary()\n",
    "\n"
   ]
  },
  {
   "cell_type": "code",
   "execution_count": 16,
   "metadata": {},
   "outputs": [],
   "source": [
    "from sklearn.metrics import accuracy_score\n",
    "from sklearn.metrics import balanced_accuracy_score\n",
    "from sklearn.metrics import average_precision_score\n",
    "from sklearn.metrics import classification_report"
   ]
  },
  {
   "cell_type": "code",
   "execution_count": 17,
   "metadata": {},
   "outputs": [],
   "source": [
    "import numpy as np\n",
    "np.random.seed(40)\n",
    "from mlflow import MlflowClient\n",
    "from mlflow.entities import ViewType\n",
    "from mlflow.models.signature import infer_signature\n",
    "\n",
    "# !mlflow server --backend-store-uri sqlite:///backend.db"
   ]
  },
  {
   "cell_type": "code",
   "execution_count": 18,
   "metadata": {},
   "outputs": [],
   "source": [
    "def eval_metrics(classifier, test_features, test_labels):\n",
    "    \n",
    "    from sklearn.metrics import accuracy_score, precision_recall_fscore_support\n",
    "    \n",
    "    # make prediction\n",
    "    model_preds_probs   = classifier.predict(test_features)\n",
    "    model_preds         = tf.argmax(model_preds_probs, axis=1)\n",
    "    predictions         = tf.argmax(test_labels,axis=1)\n",
    "\n",
    "    \n",
    "    # Calculate model accuracy\n",
    "    model_accuracy = accuracy_score(test_labels, predictions) * 100\n",
    "    # Calculate model precision, recall and f1 score using \"weighted average\n",
    "    model_precision, model_recall, model_f1, _ = precision_recall_fscore_support(test_labels, \n",
    "                                                                                 predictions, \n",
    "                                                                                 average=\"weighted\", \n",
    "                                                                                 zero_division= 1)\n",
    "    \n",
    "    av_precision    = average_precision_score(test_labels, predictions, zero_division= 1)\n",
    "    \n",
    "    model_results = {\n",
    "        \"accuracy\": model_accuracy,\n",
    "        \"precision\": model_precision,\n",
    "        \"recall\": model_recall,\n",
    "        \"f1\": model_f1,\n",
    "        \"av precisoin\" : av_precision}\n",
    "    \n",
    "    \n",
    "    \n",
    "    \n",
    "    \n",
    "    target_names = ['StartHesitation','Turn','Walking', 'All_zero']\n",
    "    print(\"Classification report\")\n",
    "    print(\"---------------------\",\"\\n\")\n",
    "    print(classification_report(test_labels, predictions,target_names=target_names),\"\\n\")\n",
    "    # print(\"Confusion Matrix\")\n",
    "    # print(\"---------------------\",\"\\n\")\n",
    "    # print(f\"{Matrix} \\n\")\n",
    "\n",
    "    print(\"Accuracy Measures\")\n",
    "    print(\"---------------------\",\"\\n\")\n",
    "    print(\"Accuracy: \", model_accuracy)\n",
    "    print(\"Avarge Precision: \", av_precision)\n",
    "    print(\"precision: \", model_precision)\n",
    "    print(\"recall : \", model_recall)\n",
    "    print(\"f1 : \", model_f1)\n",
    "    \n",
    "    return model_results"
   ]
  },
  {
   "cell_type": "code",
   "execution_count": 19,
   "metadata": {},
   "outputs": [
    {
     "name": "stdout",
     "output_type": "stream",
     "text": [
      "tracking URI: 'http://127.0.0.1:5000'\n"
     ]
    }
   ],
   "source": [
    "import mlflow\n",
    "import mlflow.tensorflow\n",
    "mlflow.set_tracking_uri(\"http://127.0.0.1:5000\")\n",
    "print(f\"tracking URI: '{mlflow.get_tracking_uri()}'\")\n"
   ]
  },
  {
   "cell_type": "code",
   "execution_count": 20,
   "metadata": {},
   "outputs": [
    {
     "name": "stdout",
     "output_type": "stream",
     "text": [
      "Epoch 1/25\n",
      "317059/910203 [=========>....................] - ETA: 35:54 - loss: 0.8782 - accuracy: 0.6360"
     ]
    },
    {
     "ename": "KeyboardInterrupt",
     "evalue": "",
     "output_type": "error",
     "traceback": [
      "\u001b[0;31m---------------------------------------------------------------------------\u001b[0m",
      "\u001b[0;31mKeyboardInterrupt\u001b[0m                         Traceback (most recent call last)",
      "Cell \u001b[0;32mIn[20], line 9\u001b[0m\n\u001b[1;32m      5\u001b[0m \u001b[39mwith\u001b[39;00m mlflow\u001b[39m.\u001b[39mstart_run():\n\u001b[1;32m      6\u001b[0m     \n\u001b[1;32m      7\u001b[0m     \u001b[39m# fit the model\u001b[39;00m\n\u001b[1;32m      8\u001b[0m     start \u001b[39m=\u001b[39m datetime\u001b[39m.\u001b[39mnow()\n\u001b[0;32m----> 9\u001b[0m     history_model \u001b[39m=\u001b[39m model\u001b[39m.\u001b[39;49mfit(train_dataset,\n\u001b[1;32m     10\u001b[0m                             steps_per_epoch\u001b[39m=\u001b[39;49m\u001b[39mlen\u001b[39;49m(train_dataset),\n\u001b[1;32m     11\u001b[0m                             validation_data\u001b[39m=\u001b[39;49mvalid_dataset,\n\u001b[1;32m     12\u001b[0m                             validation_steps\u001b[39m=\u001b[39;49m\u001b[39mint\u001b[39;49m(\u001b[39m0.25\u001b[39;49m\u001b[39m*\u001b[39;49m\u001b[39mlen\u001b[39;49m(valid_dataset)),\n\u001b[1;32m     13\u001b[0m                             callbacks\u001b[39m=\u001b[39;49m[early_stopping, reduce_lr],\n\u001b[1;32m     14\u001b[0m                             epochs\u001b[39m=\u001b[39;49mepoch) \n\u001b[1;32m     15\u001b[0m     end \u001b[39m=\u001b[39m datetime\u001b[39m.\u001b[39mnow()\n\u001b[1;32m     16\u001b[0m     \u001b[39mprint\u001b[39m(\u001b[39mf\u001b[39m\u001b[39m\"\u001b[39m\u001b[39mThe time taken to train the model is \u001b[39m\u001b[39m{\u001b[39;00mend\u001b[39m \u001b[39m\u001b[39m-\u001b[39m\u001b[39m \u001b[39mstart\u001b[39m}\u001b[39;00m\u001b[39m\"\u001b[39m)\n",
      "File \u001b[0;32m~/miniconda3/envs/main/lib/python3.10/site-packages/keras/utils/traceback_utils.py:65\u001b[0m, in \u001b[0;36mfilter_traceback.<locals>.error_handler\u001b[0;34m(*args, **kwargs)\u001b[0m\n\u001b[1;32m     63\u001b[0m filtered_tb \u001b[39m=\u001b[39m \u001b[39mNone\u001b[39;00m\n\u001b[1;32m     64\u001b[0m \u001b[39mtry\u001b[39;00m:\n\u001b[0;32m---> 65\u001b[0m     \u001b[39mreturn\u001b[39;00m fn(\u001b[39m*\u001b[39;49margs, \u001b[39m*\u001b[39;49m\u001b[39m*\u001b[39;49mkwargs)\n\u001b[1;32m     66\u001b[0m \u001b[39mexcept\u001b[39;00m \u001b[39mException\u001b[39;00m \u001b[39mas\u001b[39;00m e:\n\u001b[1;32m     67\u001b[0m     filtered_tb \u001b[39m=\u001b[39m _process_traceback_frames(e\u001b[39m.\u001b[39m__traceback__)\n",
      "File \u001b[0;32m~/miniconda3/envs/main/lib/python3.10/site-packages/keras/engine/training.py:1564\u001b[0m, in \u001b[0;36mModel.fit\u001b[0;34m(self, x, y, batch_size, epochs, verbose, callbacks, validation_split, validation_data, shuffle, class_weight, sample_weight, initial_epoch, steps_per_epoch, validation_steps, validation_batch_size, validation_freq, max_queue_size, workers, use_multiprocessing)\u001b[0m\n\u001b[1;32m   1556\u001b[0m \u001b[39mwith\u001b[39;00m tf\u001b[39m.\u001b[39mprofiler\u001b[39m.\u001b[39mexperimental\u001b[39m.\u001b[39mTrace(\n\u001b[1;32m   1557\u001b[0m     \u001b[39m\"\u001b[39m\u001b[39mtrain\u001b[39m\u001b[39m\"\u001b[39m,\n\u001b[1;32m   1558\u001b[0m     epoch_num\u001b[39m=\u001b[39mepoch,\n\u001b[0;32m   (...)\u001b[0m\n\u001b[1;32m   1561\u001b[0m     _r\u001b[39m=\u001b[39m\u001b[39m1\u001b[39m,\n\u001b[1;32m   1562\u001b[0m ):\n\u001b[1;32m   1563\u001b[0m     callbacks\u001b[39m.\u001b[39mon_train_batch_begin(step)\n\u001b[0;32m-> 1564\u001b[0m     tmp_logs \u001b[39m=\u001b[39m \u001b[39mself\u001b[39;49m\u001b[39m.\u001b[39;49mtrain_function(iterator)\n\u001b[1;32m   1565\u001b[0m     \u001b[39mif\u001b[39;00m data_handler\u001b[39m.\u001b[39mshould_sync:\n\u001b[1;32m   1566\u001b[0m         context\u001b[39m.\u001b[39masync_wait()\n",
      "File \u001b[0;32m~/miniconda3/envs/main/lib/python3.10/site-packages/tensorflow/python/util/traceback_utils.py:150\u001b[0m, in \u001b[0;36mfilter_traceback.<locals>.error_handler\u001b[0;34m(*args, **kwargs)\u001b[0m\n\u001b[1;32m    148\u001b[0m filtered_tb \u001b[39m=\u001b[39m \u001b[39mNone\u001b[39;00m\n\u001b[1;32m    149\u001b[0m \u001b[39mtry\u001b[39;00m:\n\u001b[0;32m--> 150\u001b[0m   \u001b[39mreturn\u001b[39;00m fn(\u001b[39m*\u001b[39;49margs, \u001b[39m*\u001b[39;49m\u001b[39m*\u001b[39;49mkwargs)\n\u001b[1;32m    151\u001b[0m \u001b[39mexcept\u001b[39;00m \u001b[39mException\u001b[39;00m \u001b[39mas\u001b[39;00m e:\n\u001b[1;32m    152\u001b[0m   filtered_tb \u001b[39m=\u001b[39m _process_traceback_frames(e\u001b[39m.\u001b[39m__traceback__)\n",
      "File \u001b[0;32m~/miniconda3/envs/main/lib/python3.10/site-packages/tensorflow/python/eager/def_function.py:915\u001b[0m, in \u001b[0;36mFunction.__call__\u001b[0;34m(self, *args, **kwds)\u001b[0m\n\u001b[1;32m    912\u001b[0m compiler \u001b[39m=\u001b[39m \u001b[39m\"\u001b[39m\u001b[39mxla\u001b[39m\u001b[39m\"\u001b[39m \u001b[39mif\u001b[39;00m \u001b[39mself\u001b[39m\u001b[39m.\u001b[39m_jit_compile \u001b[39melse\u001b[39;00m \u001b[39m\"\u001b[39m\u001b[39mnonXla\u001b[39m\u001b[39m\"\u001b[39m\n\u001b[1;32m    914\u001b[0m \u001b[39mwith\u001b[39;00m OptionalXlaContext(\u001b[39mself\u001b[39m\u001b[39m.\u001b[39m_jit_compile):\n\u001b[0;32m--> 915\u001b[0m   result \u001b[39m=\u001b[39m \u001b[39mself\u001b[39;49m\u001b[39m.\u001b[39;49m_call(\u001b[39m*\u001b[39;49margs, \u001b[39m*\u001b[39;49m\u001b[39m*\u001b[39;49mkwds)\n\u001b[1;32m    917\u001b[0m new_tracing_count \u001b[39m=\u001b[39m \u001b[39mself\u001b[39m\u001b[39m.\u001b[39mexperimental_get_tracing_count()\n\u001b[1;32m    918\u001b[0m without_tracing \u001b[39m=\u001b[39m (tracing_count \u001b[39m==\u001b[39m new_tracing_count)\n",
      "File \u001b[0;32m~/miniconda3/envs/main/lib/python3.10/site-packages/tensorflow/python/eager/def_function.py:947\u001b[0m, in \u001b[0;36mFunction._call\u001b[0;34m(self, *args, **kwds)\u001b[0m\n\u001b[1;32m    944\u001b[0m   \u001b[39mself\u001b[39m\u001b[39m.\u001b[39m_lock\u001b[39m.\u001b[39mrelease()\n\u001b[1;32m    945\u001b[0m   \u001b[39m# In this case we have created variables on the first call, so we run the\u001b[39;00m\n\u001b[1;32m    946\u001b[0m   \u001b[39m# defunned version which is guaranteed to never create variables.\u001b[39;00m\n\u001b[0;32m--> 947\u001b[0m   \u001b[39mreturn\u001b[39;00m \u001b[39mself\u001b[39;49m\u001b[39m.\u001b[39;49m_stateless_fn(\u001b[39m*\u001b[39;49margs, \u001b[39m*\u001b[39;49m\u001b[39m*\u001b[39;49mkwds)  \u001b[39m# pylint: disable=not-callable\u001b[39;00m\n\u001b[1;32m    948\u001b[0m \u001b[39melif\u001b[39;00m \u001b[39mself\u001b[39m\u001b[39m.\u001b[39m_stateful_fn \u001b[39mis\u001b[39;00m \u001b[39mnot\u001b[39;00m \u001b[39mNone\u001b[39;00m:\n\u001b[1;32m    949\u001b[0m   \u001b[39m# Release the lock early so that multiple threads can perform the call\u001b[39;00m\n\u001b[1;32m    950\u001b[0m   \u001b[39m# in parallel.\u001b[39;00m\n\u001b[1;32m    951\u001b[0m   \u001b[39mself\u001b[39m\u001b[39m.\u001b[39m_lock\u001b[39m.\u001b[39mrelease()\n",
      "File \u001b[0;32m~/miniconda3/envs/main/lib/python3.10/site-packages/tensorflow/python/eager/function.py:2495\u001b[0m, in \u001b[0;36mFunction.__call__\u001b[0;34m(self, *args, **kwargs)\u001b[0m\n\u001b[1;32m   2492\u001b[0m \u001b[39m\u001b[39m\u001b[39m\"\"\"Calls a graph function specialized to the inputs.\"\"\"\u001b[39;00m\n\u001b[1;32m   2493\u001b[0m \u001b[39mwith\u001b[39;00m \u001b[39mself\u001b[39m\u001b[39m.\u001b[39m_lock:\n\u001b[1;32m   2494\u001b[0m   (graph_function,\n\u001b[0;32m-> 2495\u001b[0m    filtered_flat_args) \u001b[39m=\u001b[39m \u001b[39mself\u001b[39;49m\u001b[39m.\u001b[39;49m_maybe_define_function(args, kwargs)\n\u001b[1;32m   2496\u001b[0m \u001b[39mreturn\u001b[39;00m graph_function\u001b[39m.\u001b[39m_call_flat(\n\u001b[1;32m   2497\u001b[0m     filtered_flat_args, captured_inputs\u001b[39m=\u001b[39mgraph_function\u001b[39m.\u001b[39mcaptured_inputs)\n",
      "File \u001b[0;32m~/miniconda3/envs/main/lib/python3.10/site-packages/tensorflow/python/eager/function.py:2738\u001b[0m, in \u001b[0;36mFunction._maybe_define_function\u001b[0;34m(self, args, kwargs)\u001b[0m\n\u001b[1;32m   2733\u001b[0m \u001b[39mexcept\u001b[39;00m \u001b[39mTypeError\u001b[39;00m \u001b[39mas\u001b[39;00m e:\n\u001b[1;32m   2734\u001b[0m   \u001b[39mraise\u001b[39;00m \u001b[39mTypeError\u001b[39;00m(\n\u001b[1;32m   2735\u001b[0m       \u001b[39m\"\u001b[39m\u001b[39mArguments supplied to `defun`-generated functions must be hashable.\u001b[39m\u001b[39m\"\u001b[39m\n\u001b[1;32m   2736\u001b[0m       ) \u001b[39mfrom\u001b[39;00m \u001b[39me\u001b[39;00m\n\u001b[0;32m-> 2738\u001b[0m graph_function \u001b[39m=\u001b[39m \u001b[39mself\u001b[39;49m\u001b[39m.\u001b[39;49m_function_cache\u001b[39m.\u001b[39;49mlookup(func_cache_key, \u001b[39mTrue\u001b[39;49;00m)\n\u001b[1;32m   2739\u001b[0m \u001b[39mif\u001b[39;00m graph_function \u001b[39mis\u001b[39;00m \u001b[39mnot\u001b[39;00m \u001b[39mNone\u001b[39;00m:\n\u001b[1;32m   2740\u001b[0m   \u001b[39mreturn\u001b[39;00m graph_function, filtered_flat_args\n",
      "File \u001b[0;32m~/miniconda3/envs/main/lib/python3.10/site-packages/tensorflow/core/function/polymorphism/function_cache.py:222\u001b[0m, in \u001b[0;36mFunctionCache.lookup\u001b[0;34m(self, key, use_function_subtyping)\u001b[0m\n\u001b[1;32m    219\u001b[0m \u001b[39mif\u001b[39;00m \u001b[39mnot\u001b[39;00m use_function_subtyping:\n\u001b[1;32m    220\u001b[0m   \u001b[39mreturn\u001b[39;00m \u001b[39mself\u001b[39m\u001b[39m.\u001b[39m_primary\u001b[39m.\u001b[39mget(key, \u001b[39mNone\u001b[39;00m)\n\u001b[0;32m--> 222\u001b[0m dispatch_key \u001b[39m=\u001b[39m \u001b[39mself\u001b[39;49m\u001b[39m.\u001b[39;49m_dispatch_table\u001b[39m.\u001b[39;49mdispatch(key)\n\u001b[1;32m    223\u001b[0m \u001b[39mif\u001b[39;00m dispatch_key \u001b[39mis\u001b[39;00m \u001b[39mnot\u001b[39;00m \u001b[39mNone\u001b[39;00m:\n\u001b[1;32m    224\u001b[0m   \u001b[39mreturn\u001b[39;00m \u001b[39mself\u001b[39m\u001b[39m.\u001b[39m_primary[dispatch_key]\n",
      "File \u001b[0;32m~/miniconda3/envs/main/lib/python3.10/site-packages/tensorflow/core/function/polymorphism/type_dispatch.py:78\u001b[0m, in \u001b[0;36mTypeDispatchTable.dispatch\u001b[0;34m(self, request)\u001b[0m\n\u001b[1;32m     76\u001b[0m \u001b[39m\u001b[39m\u001b[39m\"\"\"Returns the deepest subtype target if it exists in the table.\"\"\"\u001b[39;00m\n\u001b[1;32m     77\u001b[0m \u001b[39m# For known exact matches.\u001b[39;00m\n\u001b[0;32m---> 78\u001b[0m \u001b[39mif\u001b[39;00m request \u001b[39min\u001b[39;49;00m \u001b[39mself\u001b[39;49m\u001b[39m.\u001b[39;49m_dispatch_table:\n\u001b[1;32m     79\u001b[0m   \u001b[39mreturn\u001b[39;00m request\n\u001b[1;32m     81\u001b[0m \u001b[39m# For known non-exact matches.\u001b[39;00m\n\u001b[1;32m     82\u001b[0m \u001b[39m# (self._dispatch cache does not contain exact matches)\u001b[39;00m\n",
      "File \u001b[0;32m~/miniconda3/envs/main/lib/python3.10/site-packages/tensorflow/core/function/polymorphism/function_cache.py:187\u001b[0m, in \u001b[0;36mFunctionCacheKey.__eq__\u001b[0;34m(self, other)\u001b[0m\n\u001b[1;32m    183\u001b[0m \u001b[39mif\u001b[39;00m \u001b[39mnot\u001b[39;00m \u001b[39misinstance\u001b[39m(other, FunctionCacheKey):\n\u001b[1;32m    184\u001b[0m   \u001b[39mreturn\u001b[39;00m \u001b[39mFalse\u001b[39;00m\n\u001b[1;32m    186\u001b[0m \u001b[39mreturn\u001b[39;00m (\u001b[39mself\u001b[39m\u001b[39m.\u001b[39mcall_context \u001b[39m==\u001b[39m other\u001b[39m.\u001b[39mcall_context \u001b[39mand\u001b[39;00m\n\u001b[0;32m--> 187\u001b[0m         \u001b[39mself\u001b[39;49m\u001b[39m.\u001b[39;49margs_signature \u001b[39m==\u001b[39;49m other\u001b[39m.\u001b[39;49margs_signature \u001b[39mand\u001b[39;00m\n\u001b[1;32m    188\u001b[0m         \u001b[39mself\u001b[39m\u001b[39m.\u001b[39mcaptures_signature \u001b[39m==\u001b[39m other\u001b[39m.\u001b[39mcaptures_signature)\n",
      "File \u001b[0;32m~/miniconda3/envs/main/lib/python3.10/site-packages/tensorflow/core/function/trace_type/default_types.py:204\u001b[0m, in \u001b[0;36mTuple.__eq__\u001b[0;34m(self, other)\u001b[0m\n\u001b[1;32m    201\u001b[0m \u001b[39mif\u001b[39;00m \u001b[39mnot\u001b[39;00m \u001b[39misinstance\u001b[39m(other, Tuple):\n\u001b[1;32m    202\u001b[0m   \u001b[39mreturn\u001b[39;00m \u001b[39mFalse\u001b[39;00m\n\u001b[0;32m--> 204\u001b[0m \u001b[39mreturn\u001b[39;00m \u001b[39mself\u001b[39;49m\u001b[39m.\u001b[39;49mcomponents \u001b[39m==\u001b[39;49m other\u001b[39m.\u001b[39;49mcomponents\n",
      "File \u001b[0;32m~/miniconda3/envs/main/lib/python3.10/site-packages/tensorflow/core/function/trace_type/default_types.py:204\u001b[0m, in \u001b[0;36mTuple.__eq__\u001b[0;34m(self, other)\u001b[0m\n\u001b[1;32m    201\u001b[0m \u001b[39mif\u001b[39;00m \u001b[39mnot\u001b[39;00m \u001b[39misinstance\u001b[39m(other, Tuple):\n\u001b[1;32m    202\u001b[0m   \u001b[39mreturn\u001b[39;00m \u001b[39mFalse\u001b[39;00m\n\u001b[0;32m--> 204\u001b[0m \u001b[39mreturn\u001b[39;00m \u001b[39mself\u001b[39;49m\u001b[39m.\u001b[39;49mcomponents \u001b[39m==\u001b[39;49m other\u001b[39m.\u001b[39;49mcomponents\n",
      "File \u001b[0;32m~/miniconda3/envs/main/lib/python3.10/site-packages/tensorflow/core/function/trace_type/default_types.py:598\u001b[0m, in \u001b[0;36mReference.__eq__\u001b[0;34m(self, other)\u001b[0m\n\u001b[1;32m    593\u001b[0m \u001b[39mif\u001b[39;00m \u001b[39mnot\u001b[39;00m \u001b[39misinstance\u001b[39m(other, trace\u001b[39m.\u001b[39mTraceType):\n\u001b[1;32m    594\u001b[0m   \u001b[39mreturn\u001b[39;00m \u001b[39mNotImplemented\u001b[39m\n\u001b[1;32m    596\u001b[0m \u001b[39mreturn\u001b[39;00m \u001b[39misinstance\u001b[39m(\n\u001b[1;32m    597\u001b[0m     other, Reference\n\u001b[0;32m--> 598\u001b[0m ) \u001b[39mand\u001b[39;00m \u001b[39mself\u001b[39m\u001b[39m.\u001b[39midentifier \u001b[39m==\u001b[39m other\u001b[39m.\u001b[39midentifier \u001b[39mand\u001b[39;00m \u001b[39mself\u001b[39;49m\u001b[39m.\u001b[39;49mbase \u001b[39m==\u001b[39;49m other\u001b[39m.\u001b[39;49mbase\n",
      "File \u001b[0;32m~/miniconda3/envs/main/lib/python3.10/site-packages/tensorflow/python/framework/type_spec.py:476\u001b[0m, in \u001b[0;36mTypeSpec.__eq__\u001b[0;34m(self, other)\u001b[0m\n\u001b[1;32m    473\u001b[0m \u001b[39mdef\u001b[39;00m \u001b[39m__eq__\u001b[39m(\u001b[39mself\u001b[39m, other) \u001b[39m-\u001b[39m\u001b[39m>\u001b[39m \u001b[39mbool\u001b[39m:\n\u001b[1;32m    474\u001b[0m   \u001b[39m# pylint: disable=protected-access\u001b[39;00m\n\u001b[1;32m    475\u001b[0m   \u001b[39mreturn\u001b[39;00m (\u001b[39mtype\u001b[39m(other) \u001b[39mis\u001b[39;00m \u001b[39mtype\u001b[39m(\u001b[39mself\u001b[39m) \u001b[39mand\u001b[39;00m\n\u001b[0;32m--> 476\u001b[0m           \u001b[39mself\u001b[39m\u001b[39m.\u001b[39m__get_cmp_key() \u001b[39m==\u001b[39m other\u001b[39m.\u001b[39;49m__get_cmp_key())\n",
      "File \u001b[0;32m~/miniconda3/envs/main/lib/python3.10/site-packages/tensorflow/python/framework/type_spec.py:531\u001b[0m, in \u001b[0;36mTypeSpec.__get_cmp_key\u001b[0;34m(self)\u001b[0m\n\u001b[1;32m    529\u001b[0m \u001b[39m\u001b[39m\u001b[39m\"\"\"Returns a hashable eq-comparable key for `self`.\"\"\"\u001b[39;00m\n\u001b[1;32m    530\u001b[0m \u001b[39m# TODO(b/133606651): Decide whether to cache this value.\u001b[39;00m\n\u001b[0;32m--> 531\u001b[0m \u001b[39mreturn\u001b[39;00m (\u001b[39mtype\u001b[39m(\u001b[39mself\u001b[39m), \u001b[39mself\u001b[39;49m\u001b[39m.\u001b[39;49m__make_cmp_key(\u001b[39mself\u001b[39;49m\u001b[39m.\u001b[39;49m_serialize()))\n",
      "File \u001b[0;32m~/miniconda3/envs/main/lib/python3.10/site-packages/tensorflow/python/framework/type_spec.py:549\u001b[0m, in \u001b[0;36mTypeSpec.__make_cmp_key\u001b[0;34m(self, value)\u001b[0m\n\u001b[1;32m    543\u001b[0m   \u001b[39mreturn\u001b[39;00m \u001b[39mtuple\u001b[39m([\n\u001b[1;32m    544\u001b[0m       \u001b[39mtuple\u001b[39m([\u001b[39mself\u001b[39m\u001b[39m.\u001b[39m__make_cmp_key(key),\n\u001b[1;32m    545\u001b[0m              \u001b[39mself\u001b[39m\u001b[39m.\u001b[39m__make_cmp_key(value[key])])\n\u001b[1;32m    546\u001b[0m       \u001b[39mfor\u001b[39;00m key \u001b[39min\u001b[39;00m \u001b[39msorted\u001b[39m(value\u001b[39m.\u001b[39mkeys())\n\u001b[1;32m    547\u001b[0m   ])\n\u001b[1;32m    548\u001b[0m \u001b[39mif\u001b[39;00m \u001b[39misinstance\u001b[39m(value, \u001b[39mtuple\u001b[39m):\n\u001b[0;32m--> 549\u001b[0m   \u001b[39mreturn\u001b[39;00m \u001b[39mtuple\u001b[39m([\u001b[39mself\u001b[39m\u001b[39m.\u001b[39m__make_cmp_key(v) \u001b[39mfor\u001b[39;00m v \u001b[39min\u001b[39;00m value])\n\u001b[1;32m    550\u001b[0m \u001b[39mif\u001b[39;00m \u001b[39misinstance\u001b[39m(value, \u001b[39mlist\u001b[39m):\n\u001b[1;32m    551\u001b[0m   \u001b[39mreturn\u001b[39;00m (\u001b[39mlist\u001b[39m, \u001b[39mtuple\u001b[39m([\u001b[39mself\u001b[39m\u001b[39m.\u001b[39m__make_cmp_key(v) \u001b[39mfor\u001b[39;00m v \u001b[39min\u001b[39;00m value]))\n",
      "File \u001b[0;32m~/miniconda3/envs/main/lib/python3.10/site-packages/tensorflow/python/framework/type_spec.py:549\u001b[0m, in \u001b[0;36m<listcomp>\u001b[0;34m(.0)\u001b[0m\n\u001b[1;32m    543\u001b[0m   \u001b[39mreturn\u001b[39;00m \u001b[39mtuple\u001b[39m([\n\u001b[1;32m    544\u001b[0m       \u001b[39mtuple\u001b[39m([\u001b[39mself\u001b[39m\u001b[39m.\u001b[39m__make_cmp_key(key),\n\u001b[1;32m    545\u001b[0m              \u001b[39mself\u001b[39m\u001b[39m.\u001b[39m__make_cmp_key(value[key])])\n\u001b[1;32m    546\u001b[0m       \u001b[39mfor\u001b[39;00m key \u001b[39min\u001b[39;00m \u001b[39msorted\u001b[39m(value\u001b[39m.\u001b[39mkeys())\n\u001b[1;32m    547\u001b[0m   ])\n\u001b[1;32m    548\u001b[0m \u001b[39mif\u001b[39;00m \u001b[39misinstance\u001b[39m(value, \u001b[39mtuple\u001b[39m):\n\u001b[0;32m--> 549\u001b[0m   \u001b[39mreturn\u001b[39;00m \u001b[39mtuple\u001b[39m([\u001b[39mself\u001b[39;49m\u001b[39m.\u001b[39;49m__make_cmp_key(v) \u001b[39mfor\u001b[39;00m v \u001b[39min\u001b[39;00m value])\n\u001b[1;32m    550\u001b[0m \u001b[39mif\u001b[39;00m \u001b[39misinstance\u001b[39m(value, \u001b[39mlist\u001b[39m):\n\u001b[1;32m    551\u001b[0m   \u001b[39mreturn\u001b[39;00m (\u001b[39mlist\u001b[39m, \u001b[39mtuple\u001b[39m([\u001b[39mself\u001b[39m\u001b[39m.\u001b[39m__make_cmp_key(v) \u001b[39mfor\u001b[39;00m v \u001b[39min\u001b[39;00m value]))\n",
      "File \u001b[0;32m~/miniconda3/envs/main/lib/python3.10/site-packages/tensorflow/python/framework/type_spec.py:549\u001b[0m, in \u001b[0;36mTypeSpec.__make_cmp_key\u001b[0;34m(self, value)\u001b[0m\n\u001b[1;32m    543\u001b[0m   \u001b[39mreturn\u001b[39;00m \u001b[39mtuple\u001b[39m([\n\u001b[1;32m    544\u001b[0m       \u001b[39mtuple\u001b[39m([\u001b[39mself\u001b[39m\u001b[39m.\u001b[39m__make_cmp_key(key),\n\u001b[1;32m    545\u001b[0m              \u001b[39mself\u001b[39m\u001b[39m.\u001b[39m__make_cmp_key(value[key])])\n\u001b[1;32m    546\u001b[0m       \u001b[39mfor\u001b[39;00m key \u001b[39min\u001b[39;00m \u001b[39msorted\u001b[39m(value\u001b[39m.\u001b[39mkeys())\n\u001b[1;32m    547\u001b[0m   ])\n\u001b[1;32m    548\u001b[0m \u001b[39mif\u001b[39;00m \u001b[39misinstance\u001b[39m(value, \u001b[39mtuple\u001b[39m):\n\u001b[0;32m--> 549\u001b[0m   \u001b[39mreturn\u001b[39;00m \u001b[39mtuple\u001b[39m([\u001b[39mself\u001b[39m\u001b[39m.\u001b[39m__make_cmp_key(v) \u001b[39mfor\u001b[39;00m v \u001b[39min\u001b[39;00m value])\n\u001b[1;32m    550\u001b[0m \u001b[39mif\u001b[39;00m \u001b[39misinstance\u001b[39m(value, \u001b[39mlist\u001b[39m):\n\u001b[1;32m    551\u001b[0m   \u001b[39mreturn\u001b[39;00m (\u001b[39mlist\u001b[39m, \u001b[39mtuple\u001b[39m([\u001b[39mself\u001b[39m\u001b[39m.\u001b[39m__make_cmp_key(v) \u001b[39mfor\u001b[39;00m v \u001b[39min\u001b[39;00m value]))\n",
      "File \u001b[0;32m~/miniconda3/envs/main/lib/python3.10/site-packages/tensorflow/python/framework/type_spec.py:549\u001b[0m, in \u001b[0;36m<listcomp>\u001b[0;34m(.0)\u001b[0m\n\u001b[1;32m    543\u001b[0m   \u001b[39mreturn\u001b[39;00m \u001b[39mtuple\u001b[39m([\n\u001b[1;32m    544\u001b[0m       \u001b[39mtuple\u001b[39m([\u001b[39mself\u001b[39m\u001b[39m.\u001b[39m__make_cmp_key(key),\n\u001b[1;32m    545\u001b[0m              \u001b[39mself\u001b[39m\u001b[39m.\u001b[39m__make_cmp_key(value[key])])\n\u001b[1;32m    546\u001b[0m       \u001b[39mfor\u001b[39;00m key \u001b[39min\u001b[39;00m \u001b[39msorted\u001b[39m(value\u001b[39m.\u001b[39mkeys())\n\u001b[1;32m    547\u001b[0m   ])\n\u001b[1;32m    548\u001b[0m \u001b[39mif\u001b[39;00m \u001b[39misinstance\u001b[39m(value, \u001b[39mtuple\u001b[39m):\n\u001b[0;32m--> 549\u001b[0m   \u001b[39mreturn\u001b[39;00m \u001b[39mtuple\u001b[39m([\u001b[39mself\u001b[39;49m\u001b[39m.\u001b[39;49m__make_cmp_key(v) \u001b[39mfor\u001b[39;00m v \u001b[39min\u001b[39;00m value])\n\u001b[1;32m    550\u001b[0m \u001b[39mif\u001b[39;00m \u001b[39misinstance\u001b[39m(value, \u001b[39mlist\u001b[39m):\n\u001b[1;32m    551\u001b[0m   \u001b[39mreturn\u001b[39;00m (\u001b[39mlist\u001b[39m, \u001b[39mtuple\u001b[39m([\u001b[39mself\u001b[39m\u001b[39m.\u001b[39m__make_cmp_key(v) \u001b[39mfor\u001b[39;00m v \u001b[39min\u001b[39;00m value]))\n",
      "File \u001b[0;32m~/miniconda3/envs/main/lib/python3.10/site-packages/tensorflow/python/framework/type_spec.py:535\u001b[0m, in \u001b[0;36mTypeSpec.__make_cmp_key\u001b[0;34m(self, value)\u001b[0m\n\u001b[1;32m    533\u001b[0m \u001b[39mdef\u001b[39;00m \u001b[39m__make_cmp_key\u001b[39m(\u001b[39mself\u001b[39m, value):\n\u001b[1;32m    534\u001b[0m \u001b[39m  \u001b[39m\u001b[39m\"\"\"Converts `value` to a hashable key.\"\"\"\u001b[39;00m\n\u001b[0;32m--> 535\u001b[0m   \u001b[39mif\u001b[39;00m \u001b[39misinstance\u001b[39;49m(value, (\u001b[39mint\u001b[39;49m, \u001b[39mfloat\u001b[39;49m, \u001b[39mbool\u001b[39;49m, np\u001b[39m.\u001b[39;49mgeneric, dtypes\u001b[39m.\u001b[39;49mDType, TypeSpec,\n\u001b[1;32m    536\u001b[0m                         tensor_shape\u001b[39m.\u001b[39;49mTensorShape)):\n\u001b[1;32m    537\u001b[0m     \u001b[39mreturn\u001b[39;00m value\n\u001b[1;32m    538\u001b[0m   \u001b[39mif\u001b[39;00m \u001b[39misinstance\u001b[39m(value, compat\u001b[39m.\u001b[39mbytes_or_text_types):\n",
      "File \u001b[0;32m~/miniconda3/envs/main/lib/python3.10/abc.py:117\u001b[0m, in \u001b[0;36mABCMeta.__instancecheck__\u001b[0;34m(cls, instance)\u001b[0m\n\u001b[1;32m    111\u001b[0m \u001b[39m    \u001b[39m\u001b[39m\"\"\"Register a virtual subclass of an ABC.\u001b[39;00m\n\u001b[1;32m    112\u001b[0m \n\u001b[1;32m    113\u001b[0m \u001b[39m    Returns the subclass, to allow usage as a class decorator.\u001b[39;00m\n\u001b[1;32m    114\u001b[0m \u001b[39m    \"\"\"\u001b[39;00m\n\u001b[1;32m    115\u001b[0m     \u001b[39mreturn\u001b[39;00m _abc_register(\u001b[39mcls\u001b[39m, subclass)\n\u001b[0;32m--> 117\u001b[0m \u001b[39mdef\u001b[39;00m \u001b[39m__instancecheck__\u001b[39m(\u001b[39mcls\u001b[39m, instance):\n\u001b[1;32m    118\u001b[0m \u001b[39m    \u001b[39m\u001b[39m\"\"\"Override for isinstance(instance, cls).\"\"\"\u001b[39;00m\n\u001b[1;32m    119\u001b[0m     \u001b[39mreturn\u001b[39;00m _abc_instancecheck(\u001b[39mcls\u001b[39m, instance)\n",
      "\u001b[0;31mKeyboardInterrupt\u001b[0m: "
     ]
    }
   ],
   "source": [
    "from sklearn.model_selection import cross_val_score\n",
    "counter = 1\n",
    "Model_Name = 'DNN_model'\n",
    "\n",
    "with mlflow.start_run():\n",
    "    \n",
    "    # fit the model\n",
    "    start = datetime.now()\n",
    "    history_model = model.fit(train_dataset,\n",
    "                            steps_per_epoch=len(train_dataset),\n",
    "                            validation_data=valid_dataset,\n",
    "                            validation_steps=int(0.25*len(valid_dataset)),\n",
    "                            callbacks=[early_stopping, reduce_lr],\n",
    "                            epochs=epoch) \n",
    "    end = datetime.now()\n",
    "    print(f\"The time taken to train the model is {end - start}\")\n",
    "    \n",
    "    # Evaluate model\n",
    "    model.evaluate(test_dataset)\n",
    "    \n",
    "    # Calculate the metrics\n",
    "    model_results = eval_metrics(model, \n",
    "                                 test_features = test_feature,\n",
    "                                 test_labels = test_label)\n",
    "    \n",
    "    mlflow.log_param(\"Model\"           , Model_Name)\n",
    "    mlflow.log_params(model_results)\n",
    "    mlflow.tensorflow.autolog()\n",
    "    \n",
    "    signature = infer_signature(valid_feature, classifier.predict(valid_feature))\n",
    "    if av_precision > 0.95 :\n",
    "        mlflow.sklearn.log_model(classifier,Model_Name, signature=signature)\n",
    "        print(f\"f1 socre is more than 0.945 so the {Model_Name} is saved\")\n",
    "    else :\n",
    "        print(f\"Because f1 socre is not quality. The model is skip to saving phase.\")\n",
    "    \n",
    "    print(\"________________________________________\")"
   ]
  },
  {
   "cell_type": "code",
   "execution_count": null,
   "metadata": {},
   "outputs": [],
   "source": []
  }
 ],
 "metadata": {
  "kernelspec": {
   "display_name": "main",
   "language": "python",
   "name": "python3"
  },
  "language_info": {
   "codemirror_mode": {
    "name": "ipython",
    "version": 3
   },
   "file_extension": ".py",
   "mimetype": "text/x-python",
   "name": "python",
   "nbconvert_exporter": "python",
   "pygments_lexer": "ipython3",
   "version": "3.10.9"
  },
  "orig_nbformat": 4
 },
 "nbformat": 4,
 "nbformat_minor": 2
}
