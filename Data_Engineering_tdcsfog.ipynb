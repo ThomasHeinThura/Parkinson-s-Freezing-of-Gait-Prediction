{
 "cells": [
  {
   "cell_type": "code",
   "execution_count": 1,
   "metadata": {},
   "outputs": [],
   "source": [
    "import pandas as pd\n",
    "import numpy as np \n",
    "import matplotlib.pyplot as plt"
   ]
  },
  {
   "attachments": {},
   "cell_type": "markdown",
   "metadata": {},
   "source": [
    "### Data import and check"
   ]
  },
  {
   "cell_type": "code",
   "execution_count": 2,
   "metadata": {},
   "outputs": [],
   "source": [
    "Test_tdcsfog_path = 'Data/test/tdcsfog/003f117e14.csv'"
   ]
  },
  {
   "cell_type": "code",
   "execution_count": 3,
   "metadata": {},
   "outputs": [],
   "source": [
    "Test_tdcsfog_dataset = pd.read_csv(Test_tdcsfog_path)"
   ]
  },
  {
   "cell_type": "code",
   "execution_count": 4,
   "metadata": {},
   "outputs": [
    {
     "data": {
      "text/plain": [
       "(      Time      AccV     AccML     AccAP\n",
       " 0        0 -9.533939  0.566322 -1.413525\n",
       " 1        1 -9.536140  0.564137 -1.440621\n",
       " 2        2 -9.529345  0.561765 -1.429332\n",
       " 3        3 -9.531239  0.564227 -1.415490\n",
       " 4        4 -9.540825  0.561854 -1.429471\n",
       " ...    ...       ...       ...       ...\n",
       " 4677  4677 -9.351431  0.370047 -2.286318\n",
       " 4678  4678 -9.341410  0.347721 -2.321991\n",
       " 4679  4679 -9.350667  0.361341 -2.297158\n",
       " 4680  4680 -9.343977  0.365726 -2.292650\n",
       " 4681  4681 -9.348477  0.379439 -2.335422\n",
       " \n",
       " [4682 rows x 4 columns],\n",
       " (4682, 4))"
      ]
     },
     "execution_count": 4,
     "metadata": {},
     "output_type": "execute_result"
    }
   ],
   "source": [
    "Test_tdcsfog_dataset , Test_tdcsfog_dataset.shape"
   ]
  },
  {
   "cell_type": "code",
   "execution_count": 5,
   "metadata": {},
   "outputs": [
    {
     "data": {
      "text/plain": [
       "0"
      ]
     },
     "execution_count": 5,
     "metadata": {},
     "output_type": "execute_result"
    }
   ],
   "source": [
    "Test_tdcsfog_dataset.duplicated().sum()"
   ]
  },
  {
   "attachments": {},
   "cell_type": "markdown",
   "metadata": {},
   "source": [
    "#### Import without ID"
   ]
  },
  {
   "cell_type": "code",
   "execution_count": 6,
   "metadata": {},
   "outputs": [],
   "source": [
    "# from pathlib import Path\n",
    "# import pandas as pd\n",
    "\n",
    "# data_dir = Path('Data/train/defog/')\n",
    "# full_defog_dataset = pd.concat(\n",
    "#     pd.read_csv(csv_files) for csv_files in data_dir.glob('*.csv')\n",
    "#     )\n",
    "# full_defog_dataset"
   ]
  },
  {
   "cell_type": "code",
   "execution_count": 7,
   "metadata": {},
   "outputs": [],
   "source": [
    "# from pathlib import Path\n",
    "# import pandas as pd\n",
    "\n",
    "# data_dir = Path('Data/train/tdcsfog/')\n",
    "# full_tdcsfog_dataset = pd.concat(\n",
    "#     pd.read_csv(csv_files) for csv_files in data_dir.glob('*.csv'))\n",
    "# full_tdcsfog_dataset"
   ]
  },
  {
   "attachments": {},
   "cell_type": "markdown",
   "metadata": {},
   "source": [
    "#### Import with ID"
   ]
  },
  {
   "cell_type": "code",
   "execution_count": 8,
   "metadata": {},
   "outputs": [
    {
     "data": {
      "text/html": [
       "<div>\n",
       "<style scoped>\n",
       "    .dataframe tbody tr th:only-of-type {\n",
       "        vertical-align: middle;\n",
       "    }\n",
       "\n",
       "    .dataframe tbody tr th {\n",
       "        vertical-align: top;\n",
       "    }\n",
       "\n",
       "    .dataframe thead th {\n",
       "        text-align: right;\n",
       "    }\n",
       "</style>\n",
       "<table border=\"1\" class=\"dataframe\">\n",
       "  <thead>\n",
       "    <tr style=\"text-align: right;\">\n",
       "      <th></th>\n",
       "      <th>ID</th>\n",
       "      <th>Time</th>\n",
       "      <th>AccV</th>\n",
       "      <th>AccML</th>\n",
       "      <th>AccAP</th>\n",
       "      <th>StartHesitation</th>\n",
       "      <th>Turn</th>\n",
       "      <th>Walking</th>\n",
       "    </tr>\n",
       "  </thead>\n",
       "  <tbody>\n",
       "    <tr>\n",
       "      <th>0</th>\n",
       "      <td>16c577bb75</td>\n",
       "      <td>0</td>\n",
       "      <td>-9.563005</td>\n",
       "      <td>0.147211</td>\n",
       "      <td>1.043645</td>\n",
       "      <td>0</td>\n",
       "      <td>0</td>\n",
       "      <td>0</td>\n",
       "    </tr>\n",
       "    <tr>\n",
       "      <th>1</th>\n",
       "      <td>16c577bb75</td>\n",
       "      <td>1</td>\n",
       "      <td>-9.560686</td>\n",
       "      <td>0.156369</td>\n",
       "      <td>1.032437</td>\n",
       "      <td>0</td>\n",
       "      <td>0</td>\n",
       "      <td>0</td>\n",
       "    </tr>\n",
       "    <tr>\n",
       "      <th>2</th>\n",
       "      <td>16c577bb75</td>\n",
       "      <td>2</td>\n",
       "      <td>-9.554016</td>\n",
       "      <td>0.149317</td>\n",
       "      <td>1.039120</td>\n",
       "      <td>0</td>\n",
       "      <td>0</td>\n",
       "      <td>0</td>\n",
       "    </tr>\n",
       "    <tr>\n",
       "      <th>3</th>\n",
       "      <td>16c577bb75</td>\n",
       "      <td>3</td>\n",
       "      <td>-9.558530</td>\n",
       "      <td>0.149386</td>\n",
       "      <td>1.043640</td>\n",
       "      <td>0</td>\n",
       "      <td>0</td>\n",
       "      <td>0</td>\n",
       "    </tr>\n",
       "    <tr>\n",
       "      <th>4</th>\n",
       "      <td>16c577bb75</td>\n",
       "      <td>4</td>\n",
       "      <td>-9.558615</td>\n",
       "      <td>0.142463</td>\n",
       "      <td>1.032258</td>\n",
       "      <td>0</td>\n",
       "      <td>0</td>\n",
       "      <td>0</td>\n",
       "    </tr>\n",
       "    <tr>\n",
       "      <th>...</th>\n",
       "      <td>...</td>\n",
       "      <td>...</td>\n",
       "      <td>...</td>\n",
       "      <td>...</td>\n",
       "      <td>...</td>\n",
       "      <td>...</td>\n",
       "      <td>...</td>\n",
       "      <td>...</td>\n",
       "    </tr>\n",
       "    <tr>\n",
       "      <th>4354</th>\n",
       "      <td>9dfe62541a</td>\n",
       "      <td>4354</td>\n",
       "      <td>-9.621144</td>\n",
       "      <td>0.355504</td>\n",
       "      <td>-2.511499</td>\n",
       "      <td>0</td>\n",
       "      <td>0</td>\n",
       "      <td>0</td>\n",
       "    </tr>\n",
       "    <tr>\n",
       "      <th>4355</th>\n",
       "      <td>9dfe62541a</td>\n",
       "      <td>4355</td>\n",
       "      <td>-9.605961</td>\n",
       "      <td>0.359085</td>\n",
       "      <td>-2.507750</td>\n",
       "      <td>0</td>\n",
       "      <td>0</td>\n",
       "      <td>0</td>\n",
       "    </tr>\n",
       "    <tr>\n",
       "      <th>4356</th>\n",
       "      <td>9dfe62541a</td>\n",
       "      <td>4356</td>\n",
       "      <td>-9.596194</td>\n",
       "      <td>0.363406</td>\n",
       "      <td>-2.508474</td>\n",
       "      <td>0</td>\n",
       "      <td>0</td>\n",
       "      <td>0</td>\n",
       "    </tr>\n",
       "    <tr>\n",
       "      <th>4357</th>\n",
       "      <td>9dfe62541a</td>\n",
       "      <td>4357</td>\n",
       "      <td>-9.590238</td>\n",
       "      <td>0.369310</td>\n",
       "      <td>-2.500274</td>\n",
       "      <td>0</td>\n",
       "      <td>0</td>\n",
       "      <td>0</td>\n",
       "    </tr>\n",
       "    <tr>\n",
       "      <th>4358</th>\n",
       "      <td>9dfe62541a</td>\n",
       "      <td>4358</td>\n",
       "      <td>-9.590277</td>\n",
       "      <td>0.367733</td>\n",
       "      <td>-2.516645</td>\n",
       "      <td>0</td>\n",
       "      <td>0</td>\n",
       "      <td>0</td>\n",
       "    </tr>\n",
       "  </tbody>\n",
       "</table>\n",
       "<p>7062672 rows × 8 columns</p>\n",
       "</div>"
      ],
      "text/plain": [
       "              ID  Time      AccV     AccML     AccAP  StartHesitation  Turn  \\\n",
       "0     16c577bb75     0 -9.563005  0.147211  1.043645                0     0   \n",
       "1     16c577bb75     1 -9.560686  0.156369  1.032437                0     0   \n",
       "2     16c577bb75     2 -9.554016  0.149317  1.039120                0     0   \n",
       "3     16c577bb75     3 -9.558530  0.149386  1.043640                0     0   \n",
       "4     16c577bb75     4 -9.558615  0.142463  1.032258                0     0   \n",
       "...          ...   ...       ...       ...       ...              ...   ...   \n",
       "4354  9dfe62541a  4354 -9.621144  0.355504 -2.511499                0     0   \n",
       "4355  9dfe62541a  4355 -9.605961  0.359085 -2.507750                0     0   \n",
       "4356  9dfe62541a  4356 -9.596194  0.363406 -2.508474                0     0   \n",
       "4357  9dfe62541a  4357 -9.590238  0.369310 -2.500274                0     0   \n",
       "4358  9dfe62541a  4358 -9.590277  0.367733 -2.516645                0     0   \n",
       "\n",
       "      Walking  \n",
       "0           0  \n",
       "1           0  \n",
       "2           0  \n",
       "3           0  \n",
       "4           0  \n",
       "...       ...  \n",
       "4354        0  \n",
       "4355        0  \n",
       "4356        0  \n",
       "4357        0  \n",
       "4358        0  \n",
       "\n",
       "[7062672 rows x 8 columns]"
      ]
     },
     "execution_count": 8,
     "metadata": {},
     "output_type": "execute_result"
    }
   ],
   "source": [
    "import os\n",
    "import pandas as pd\n",
    "\n",
    "# specify the folder path\n",
    "folder_path = \"Data/train/tdcsfog/\"\n",
    "\n",
    "# create an empty list to store the DataFrames\n",
    "dfs = []\n",
    "\n",
    "# loop over all files in the folder\n",
    "for filename in os.listdir(folder_path):\n",
    "    if filename.endswith(\".csv\"):\n",
    "        # extract the ID from the filename (assuming the filename is in the format \"ID.csv\")\n",
    "        file_id = os.path.splitext(filename)[0]\n",
    "        \n",
    "        # read the CSV file into a DataFrame and add the ID as a new column\n",
    "        df = pd.read_csv(os.path.join(folder_path, filename))\n",
    "        df.insert(0, 'ID', file_id)\n",
    "        \n",
    "        # append the DataFrame to the list\n",
    "        dfs.append(df)\n",
    "\n",
    "# concatenate all DataFrames into a single DataFrame\n",
    "full_tdcsfog_dataset = pd.concat(dfs)\n",
    "\n",
    "# print the resulting DataFrame\n",
    "full_tdcsfog_dataset"
   ]
  },
  {
   "cell_type": "code",
   "execution_count": 9,
   "metadata": {},
   "outputs": [],
   "source": [
    "condition = (full_tdcsfog_dataset.StartHesitation == 0) & (full_tdcsfog_dataset.Turn == 0) & (full_tdcsfog_dataset.Walking == 0)\n",
    "condition_2 = (full_tdcsfog_dataset.StartHesitation == 1) | (full_tdcsfog_dataset.Turn == 1) | (full_tdcsfog_dataset.Walking == 1)"
   ]
  },
  {
   "cell_type": "code",
   "execution_count": 10,
   "metadata": {},
   "outputs": [
    {
     "data": {
      "text/html": [
       "<div>\n",
       "<style scoped>\n",
       "    .dataframe tbody tr th:only-of-type {\n",
       "        vertical-align: middle;\n",
       "    }\n",
       "\n",
       "    .dataframe tbody tr th {\n",
       "        vertical-align: top;\n",
       "    }\n",
       "\n",
       "    .dataframe thead th {\n",
       "        text-align: right;\n",
       "    }\n",
       "</style>\n",
       "<table border=\"1\" class=\"dataframe\">\n",
       "  <thead>\n",
       "    <tr style=\"text-align: right;\">\n",
       "      <th></th>\n",
       "      <th>ID</th>\n",
       "      <th>Time</th>\n",
       "      <th>AccV</th>\n",
       "      <th>AccML</th>\n",
       "      <th>AccAP</th>\n",
       "      <th>StartHesitation</th>\n",
       "      <th>Turn</th>\n",
       "      <th>Walking</th>\n",
       "      <th>All_zero</th>\n",
       "    </tr>\n",
       "  </thead>\n",
       "  <tbody>\n",
       "    <tr>\n",
       "      <th>0</th>\n",
       "      <td>16c577bb75</td>\n",
       "      <td>0</td>\n",
       "      <td>-9.563005</td>\n",
       "      <td>0.147211</td>\n",
       "      <td>1.043645</td>\n",
       "      <td>0</td>\n",
       "      <td>0</td>\n",
       "      <td>0</td>\n",
       "      <td>1.0</td>\n",
       "    </tr>\n",
       "    <tr>\n",
       "      <th>1</th>\n",
       "      <td>16c577bb75</td>\n",
       "      <td>1</td>\n",
       "      <td>-9.560686</td>\n",
       "      <td>0.156369</td>\n",
       "      <td>1.032437</td>\n",
       "      <td>0</td>\n",
       "      <td>0</td>\n",
       "      <td>0</td>\n",
       "      <td>1.0</td>\n",
       "    </tr>\n",
       "    <tr>\n",
       "      <th>2</th>\n",
       "      <td>16c577bb75</td>\n",
       "      <td>2</td>\n",
       "      <td>-9.554016</td>\n",
       "      <td>0.149317</td>\n",
       "      <td>1.039120</td>\n",
       "      <td>0</td>\n",
       "      <td>0</td>\n",
       "      <td>0</td>\n",
       "      <td>1.0</td>\n",
       "    </tr>\n",
       "    <tr>\n",
       "      <th>3</th>\n",
       "      <td>16c577bb75</td>\n",
       "      <td>3</td>\n",
       "      <td>-9.558530</td>\n",
       "      <td>0.149386</td>\n",
       "      <td>1.043640</td>\n",
       "      <td>0</td>\n",
       "      <td>0</td>\n",
       "      <td>0</td>\n",
       "      <td>1.0</td>\n",
       "    </tr>\n",
       "    <tr>\n",
       "      <th>4</th>\n",
       "      <td>16c577bb75</td>\n",
       "      <td>4</td>\n",
       "      <td>-9.558615</td>\n",
       "      <td>0.142463</td>\n",
       "      <td>1.032258</td>\n",
       "      <td>0</td>\n",
       "      <td>0</td>\n",
       "      <td>0</td>\n",
       "      <td>1.0</td>\n",
       "    </tr>\n",
       "    <tr>\n",
       "      <th>...</th>\n",
       "      <td>...</td>\n",
       "      <td>...</td>\n",
       "      <td>...</td>\n",
       "      <td>...</td>\n",
       "      <td>...</td>\n",
       "      <td>...</td>\n",
       "      <td>...</td>\n",
       "      <td>...</td>\n",
       "      <td>...</td>\n",
       "    </tr>\n",
       "    <tr>\n",
       "      <th>4354</th>\n",
       "      <td>9dfe62541a</td>\n",
       "      <td>4354</td>\n",
       "      <td>-9.621144</td>\n",
       "      <td>0.355504</td>\n",
       "      <td>-2.511499</td>\n",
       "      <td>0</td>\n",
       "      <td>0</td>\n",
       "      <td>0</td>\n",
       "      <td>1.0</td>\n",
       "    </tr>\n",
       "    <tr>\n",
       "      <th>4355</th>\n",
       "      <td>9dfe62541a</td>\n",
       "      <td>4355</td>\n",
       "      <td>-9.605961</td>\n",
       "      <td>0.359085</td>\n",
       "      <td>-2.507750</td>\n",
       "      <td>0</td>\n",
       "      <td>0</td>\n",
       "      <td>0</td>\n",
       "      <td>1.0</td>\n",
       "    </tr>\n",
       "    <tr>\n",
       "      <th>4356</th>\n",
       "      <td>9dfe62541a</td>\n",
       "      <td>4356</td>\n",
       "      <td>-9.596194</td>\n",
       "      <td>0.363406</td>\n",
       "      <td>-2.508474</td>\n",
       "      <td>0</td>\n",
       "      <td>0</td>\n",
       "      <td>0</td>\n",
       "      <td>1.0</td>\n",
       "    </tr>\n",
       "    <tr>\n",
       "      <th>4357</th>\n",
       "      <td>9dfe62541a</td>\n",
       "      <td>4357</td>\n",
       "      <td>-9.590238</td>\n",
       "      <td>0.369310</td>\n",
       "      <td>-2.500274</td>\n",
       "      <td>0</td>\n",
       "      <td>0</td>\n",
       "      <td>0</td>\n",
       "      <td>1.0</td>\n",
       "    </tr>\n",
       "    <tr>\n",
       "      <th>4358</th>\n",
       "      <td>9dfe62541a</td>\n",
       "      <td>4358</td>\n",
       "      <td>-9.590277</td>\n",
       "      <td>0.367733</td>\n",
       "      <td>-2.516645</td>\n",
       "      <td>0</td>\n",
       "      <td>0</td>\n",
       "      <td>0</td>\n",
       "      <td>1.0</td>\n",
       "    </tr>\n",
       "  </tbody>\n",
       "</table>\n",
       "<p>7062672 rows × 9 columns</p>\n",
       "</div>"
      ],
      "text/plain": [
       "              ID  Time      AccV     AccML     AccAP  StartHesitation  Turn  \\\n",
       "0     16c577bb75     0 -9.563005  0.147211  1.043645                0     0   \n",
       "1     16c577bb75     1 -9.560686  0.156369  1.032437                0     0   \n",
       "2     16c577bb75     2 -9.554016  0.149317  1.039120                0     0   \n",
       "3     16c577bb75     3 -9.558530  0.149386  1.043640                0     0   \n",
       "4     16c577bb75     4 -9.558615  0.142463  1.032258                0     0   \n",
       "...          ...   ...       ...       ...       ...              ...   ...   \n",
       "4354  9dfe62541a  4354 -9.621144  0.355504 -2.511499                0     0   \n",
       "4355  9dfe62541a  4355 -9.605961  0.359085 -2.507750                0     0   \n",
       "4356  9dfe62541a  4356 -9.596194  0.363406 -2.508474                0     0   \n",
       "4357  9dfe62541a  4357 -9.590238  0.369310 -2.500274                0     0   \n",
       "4358  9dfe62541a  4358 -9.590277  0.367733 -2.516645                0     0   \n",
       "\n",
       "      Walking  All_zero  \n",
       "0           0       1.0  \n",
       "1           0       1.0  \n",
       "2           0       1.0  \n",
       "3           0       1.0  \n",
       "4           0       1.0  \n",
       "...       ...       ...  \n",
       "4354        0       1.0  \n",
       "4355        0       1.0  \n",
       "4356        0       1.0  \n",
       "4357        0       1.0  \n",
       "4358        0       1.0  \n",
       "\n",
       "[7062672 rows x 9 columns]"
      ]
     },
     "execution_count": 10,
     "metadata": {},
     "output_type": "execute_result"
    }
   ],
   "source": [
    "full_tdcsfog_dataset.loc[condition, 'All_zero'] = 1\n",
    "full_tdcsfog_dataset.loc[condition_2, 'All_zero'] = 0\n",
    "full_tdcsfog_dataset"
   ]
  },
  {
   "cell_type": "code",
   "execution_count": 11,
   "metadata": {},
   "outputs": [
    {
     "data": {
      "text/plain": [
       "True"
      ]
     },
     "execution_count": 11,
     "metadata": {},
     "output_type": "execute_result"
    }
   ],
   "source": [
    "full_tdcsfog_dataset.shape[0] == full_tdcsfog_dataset[condition].shape[0] + full_tdcsfog_dataset[condition_2].shape[0]"
   ]
  },
  {
   "cell_type": "code",
   "execution_count": 12,
   "metadata": {},
   "outputs": [
    {
     "data": {
      "text/plain": [
       "(7062672, 4871262, 2191410)"
      ]
     },
     "execution_count": 12,
     "metadata": {},
     "output_type": "execute_result"
    }
   ],
   "source": [
    "full_tdcsfog_dataset.shape[0] , full_tdcsfog_dataset[condition].shape[0] , full_tdcsfog_dataset[condition_2].shape[0]"
   ]
  },
  {
   "cell_type": "code",
   "execution_count": 13,
   "metadata": {},
   "outputs": [],
   "source": [
    "# # Save the dataset\n",
    "\n",
    "# full_tdcsfog_dataset.to_parquet('Data/raw/full_tdcsfog_dataset.parquet')\n",
    "# full_tdcsfog_dataset.to_csv('Data/raw/full_tdcsfog_dataset.csv')"
   ]
  },
  {
   "attachments": {},
   "cell_type": "markdown",
   "metadata": {},
   "source": [
    "### Look around the data"
   ]
  },
  {
   "cell_type": "code",
   "execution_count": 14,
   "metadata": {},
   "outputs": [
    {
     "data": {
      "text/plain": [
       "0    6757882\n",
       "1     304790\n",
       "Name: StartHesitation, dtype: int64"
      ]
     },
     "execution_count": 14,
     "metadata": {},
     "output_type": "execute_result"
    }
   ],
   "source": [
    "full_tdcsfog_dataset.StartHesitation.value_counts()"
   ]
  },
  {
   "cell_type": "code",
   "execution_count": 15,
   "metadata": {},
   "outputs": [
    {
     "data": {
      "text/plain": [
       "0    5383890\n",
       "1    1678782\n",
       "Name: Turn, dtype: int64"
      ]
     },
     "execution_count": 15,
     "metadata": {},
     "output_type": "execute_result"
    }
   ],
   "source": [
    "full_tdcsfog_dataset.Turn.value_counts()"
   ]
  },
  {
   "cell_type": "code",
   "execution_count": 16,
   "metadata": {},
   "outputs": [
    {
     "data": {
      "text/plain": [
       "0    6854834\n",
       "1     207838\n",
       "Name: Walking, dtype: int64"
      ]
     },
     "execution_count": 16,
     "metadata": {},
     "output_type": "execute_result"
    }
   ],
   "source": [
    "full_tdcsfog_dataset.Walking.value_counts()"
   ]
  },
  {
   "cell_type": "code",
   "execution_count": 17,
   "metadata": {},
   "outputs": [
    {
     "data": {
      "text/plain": [
       "(7062672, 9)"
      ]
     },
     "execution_count": 17,
     "metadata": {},
     "output_type": "execute_result"
    }
   ],
   "source": [
    "full_tdcsfog_dataset.shape"
   ]
  },
  {
   "cell_type": "code",
   "execution_count": 18,
   "metadata": {},
   "outputs": [
    {
     "data": {
      "text/html": [
       "<div>\n",
       "<style scoped>\n",
       "    .dataframe tbody tr th:only-of-type {\n",
       "        vertical-align: middle;\n",
       "    }\n",
       "\n",
       "    .dataframe tbody tr th {\n",
       "        vertical-align: top;\n",
       "    }\n",
       "\n",
       "    .dataframe thead th {\n",
       "        text-align: right;\n",
       "    }\n",
       "</style>\n",
       "<table border=\"1\" class=\"dataframe\">\n",
       "  <thead>\n",
       "    <tr style=\"text-align: right;\">\n",
       "      <th></th>\n",
       "      <th>ID</th>\n",
       "      <th>Time</th>\n",
       "      <th>AccV</th>\n",
       "      <th>AccML</th>\n",
       "      <th>AccAP</th>\n",
       "      <th>StartHesitation</th>\n",
       "      <th>Turn</th>\n",
       "      <th>Walking</th>\n",
       "      <th>All_zero</th>\n",
       "    </tr>\n",
       "  </thead>\n",
       "  <tbody>\n",
       "    <tr>\n",
       "      <th>0</th>\n",
       "      <td>16c577bb75</td>\n",
       "      <td>0</td>\n",
       "      <td>-9.563005</td>\n",
       "      <td>0.147211</td>\n",
       "      <td>1.043645</td>\n",
       "      <td>0</td>\n",
       "      <td>0</td>\n",
       "      <td>0</td>\n",
       "      <td>1.0</td>\n",
       "    </tr>\n",
       "    <tr>\n",
       "      <th>1</th>\n",
       "      <td>16c577bb75</td>\n",
       "      <td>1</td>\n",
       "      <td>-9.560686</td>\n",
       "      <td>0.156369</td>\n",
       "      <td>1.032437</td>\n",
       "      <td>0</td>\n",
       "      <td>0</td>\n",
       "      <td>0</td>\n",
       "      <td>1.0</td>\n",
       "    </tr>\n",
       "    <tr>\n",
       "      <th>2</th>\n",
       "      <td>16c577bb75</td>\n",
       "      <td>2</td>\n",
       "      <td>-9.554016</td>\n",
       "      <td>0.149317</td>\n",
       "      <td>1.039120</td>\n",
       "      <td>0</td>\n",
       "      <td>0</td>\n",
       "      <td>0</td>\n",
       "      <td>1.0</td>\n",
       "    </tr>\n",
       "    <tr>\n",
       "      <th>3</th>\n",
       "      <td>16c577bb75</td>\n",
       "      <td>3</td>\n",
       "      <td>-9.558530</td>\n",
       "      <td>0.149386</td>\n",
       "      <td>1.043640</td>\n",
       "      <td>0</td>\n",
       "      <td>0</td>\n",
       "      <td>0</td>\n",
       "      <td>1.0</td>\n",
       "    </tr>\n",
       "    <tr>\n",
       "      <th>4</th>\n",
       "      <td>16c577bb75</td>\n",
       "      <td>4</td>\n",
       "      <td>-9.558615</td>\n",
       "      <td>0.142463</td>\n",
       "      <td>1.032258</td>\n",
       "      <td>0</td>\n",
       "      <td>0</td>\n",
       "      <td>0</td>\n",
       "      <td>1.0</td>\n",
       "    </tr>\n",
       "  </tbody>\n",
       "</table>\n",
       "</div>"
      ],
      "text/plain": [
       "           ID  Time      AccV     AccML     AccAP  StartHesitation  Turn  \\\n",
       "0  16c577bb75     0 -9.563005  0.147211  1.043645                0     0   \n",
       "1  16c577bb75     1 -9.560686  0.156369  1.032437                0     0   \n",
       "2  16c577bb75     2 -9.554016  0.149317  1.039120                0     0   \n",
       "3  16c577bb75     3 -9.558530  0.149386  1.043640                0     0   \n",
       "4  16c577bb75     4 -9.558615  0.142463  1.032258                0     0   \n",
       "\n",
       "   Walking  All_zero  \n",
       "0        0       1.0  \n",
       "1        0       1.0  \n",
       "2        0       1.0  \n",
       "3        0       1.0  \n",
       "4        0       1.0  "
      ]
     },
     "execution_count": 18,
     "metadata": {},
     "output_type": "execute_result"
    }
   ],
   "source": [
    "full_tdcsfog_dataset.head()"
   ]
  },
  {
   "attachments": {},
   "cell_type": "markdown",
   "metadata": {},
   "source": [
    "#### Learn Labels"
   ]
  },
  {
   "cell_type": "code",
   "execution_count": 19,
   "metadata": {},
   "outputs": [
    {
     "data": {
      "text/plain": [
       "68.97194149749556"
      ]
     },
     "execution_count": 19,
     "metadata": {},
     "output_type": "execute_result"
    }
   ],
   "source": [
    "full_tdcsfog_dataset[condition].shape[0] / full_tdcsfog_dataset.shape[0] *100"
   ]
  },
  {
   "cell_type": "code",
   "execution_count": 20,
   "metadata": {},
   "outputs": [
    {
     "data": {
      "text/plain": [
       "(2191410, 9)"
      ]
     },
     "execution_count": 20,
     "metadata": {},
     "output_type": "execute_result"
    }
   ],
   "source": [
    "full_tdcsfog_dataset[condition_2].shape"
   ]
  },
  {
   "cell_type": "code",
   "execution_count": 21,
   "metadata": {},
   "outputs": [
    {
     "data": {
      "text/plain": [
       "0"
      ]
     },
     "execution_count": 21,
     "metadata": {},
     "output_type": "execute_result"
    }
   ],
   "source": [
    "condition_3 = (full_tdcsfog_dataset.StartHesitation == 1) & (full_tdcsfog_dataset.Walking == 1) & (full_tdcsfog_dataset.Turn == 1)\n",
    "full_tdcsfog_dataset[condition_3].shape[0]"
   ]
  },
  {
   "cell_type": "code",
   "execution_count": 22,
   "metadata": {},
   "outputs": [
    {
     "data": {
      "text/html": [
       "<div>\n",
       "<style scoped>\n",
       "    .dataframe tbody tr th:only-of-type {\n",
       "        vertical-align: middle;\n",
       "    }\n",
       "\n",
       "    .dataframe tbody tr th {\n",
       "        vertical-align: top;\n",
       "    }\n",
       "\n",
       "    .dataframe thead th {\n",
       "        text-align: right;\n",
       "    }\n",
       "</style>\n",
       "<table border=\"1\" class=\"dataframe\">\n",
       "  <thead>\n",
       "    <tr style=\"text-align: right;\">\n",
       "      <th></th>\n",
       "      <th>ID</th>\n",
       "      <th>Time</th>\n",
       "      <th>AccV</th>\n",
       "      <th>AccML</th>\n",
       "      <th>AccAP</th>\n",
       "      <th>StartHesitation</th>\n",
       "      <th>Turn</th>\n",
       "      <th>Walking</th>\n",
       "      <th>All_zero</th>\n",
       "    </tr>\n",
       "  </thead>\n",
       "  <tbody>\n",
       "    <tr>\n",
       "      <th>0</th>\n",
       "      <td>16c577bb75</td>\n",
       "      <td>0</td>\n",
       "      <td>-9.563005</td>\n",
       "      <td>0.147211</td>\n",
       "      <td>1.043645</td>\n",
       "      <td>0</td>\n",
       "      <td>0</td>\n",
       "      <td>0</td>\n",
       "      <td>1.0</td>\n",
       "    </tr>\n",
       "    <tr>\n",
       "      <th>1</th>\n",
       "      <td>16c577bb75</td>\n",
       "      <td>1</td>\n",
       "      <td>-9.560686</td>\n",
       "      <td>0.156369</td>\n",
       "      <td>1.032437</td>\n",
       "      <td>0</td>\n",
       "      <td>0</td>\n",
       "      <td>0</td>\n",
       "      <td>1.0</td>\n",
       "    </tr>\n",
       "    <tr>\n",
       "      <th>2</th>\n",
       "      <td>16c577bb75</td>\n",
       "      <td>2</td>\n",
       "      <td>-9.554016</td>\n",
       "      <td>0.149317</td>\n",
       "      <td>1.039120</td>\n",
       "      <td>0</td>\n",
       "      <td>0</td>\n",
       "      <td>0</td>\n",
       "      <td>1.0</td>\n",
       "    </tr>\n",
       "    <tr>\n",
       "      <th>3</th>\n",
       "      <td>16c577bb75</td>\n",
       "      <td>3</td>\n",
       "      <td>-9.558530</td>\n",
       "      <td>0.149386</td>\n",
       "      <td>1.043640</td>\n",
       "      <td>0</td>\n",
       "      <td>0</td>\n",
       "      <td>0</td>\n",
       "      <td>1.0</td>\n",
       "    </tr>\n",
       "    <tr>\n",
       "      <th>4</th>\n",
       "      <td>16c577bb75</td>\n",
       "      <td>4</td>\n",
       "      <td>-9.558615</td>\n",
       "      <td>0.142463</td>\n",
       "      <td>1.032258</td>\n",
       "      <td>0</td>\n",
       "      <td>0</td>\n",
       "      <td>0</td>\n",
       "      <td>1.0</td>\n",
       "    </tr>\n",
       "  </tbody>\n",
       "</table>\n",
       "</div>"
      ],
      "text/plain": [
       "           ID  Time      AccV     AccML     AccAP  StartHesitation  Turn  \\\n",
       "0  16c577bb75     0 -9.563005  0.147211  1.043645                0     0   \n",
       "1  16c577bb75     1 -9.560686  0.156369  1.032437                0     0   \n",
       "2  16c577bb75     2 -9.554016  0.149317  1.039120                0     0   \n",
       "3  16c577bb75     3 -9.558530  0.149386  1.043640                0     0   \n",
       "4  16c577bb75     4 -9.558615  0.142463  1.032258                0     0   \n",
       "\n",
       "   Walking  All_zero  \n",
       "0        0       1.0  \n",
       "1        0       1.0  \n",
       "2        0       1.0  \n",
       "3        0       1.0  \n",
       "4        0       1.0  "
      ]
     },
     "execution_count": 22,
     "metadata": {},
     "output_type": "execute_result"
    }
   ],
   "source": [
    "full_tdcsfog_dataset.head()"
   ]
  },
  {
   "cell_type": "code",
   "execution_count": 23,
   "metadata": {},
   "outputs": [
    {
     "data": {
      "text/html": [
       "<div>\n",
       "<style scoped>\n",
       "    .dataframe tbody tr th:only-of-type {\n",
       "        vertical-align: middle;\n",
       "    }\n",
       "\n",
       "    .dataframe tbody tr th {\n",
       "        vertical-align: top;\n",
       "    }\n",
       "\n",
       "    .dataframe thead th {\n",
       "        text-align: right;\n",
       "    }\n",
       "</style>\n",
       "<table border=\"1\" class=\"dataframe\">\n",
       "  <thead>\n",
       "    <tr style=\"text-align: right;\">\n",
       "      <th></th>\n",
       "      <th>count</th>\n",
       "      <th>mean</th>\n",
       "      <th>std</th>\n",
       "      <th>min</th>\n",
       "      <th>25%</th>\n",
       "      <th>50%</th>\n",
       "      <th>75%</th>\n",
       "      <th>max</th>\n",
       "    </tr>\n",
       "  </thead>\n",
       "  <tbody>\n",
       "    <tr>\n",
       "      <th>Time</th>\n",
       "      <td>7062672.0</td>\n",
       "      <td>9289.467297</td>\n",
       "      <td>13998.925696</td>\n",
       "      <td>0.000000</td>\n",
       "      <td>2119.000000</td>\n",
       "      <td>4310.000000</td>\n",
       "      <td>8433.000000</td>\n",
       "      <td>97076.000000</td>\n",
       "    </tr>\n",
       "    <tr>\n",
       "      <th>AccV</th>\n",
       "      <td>7062672.0</td>\n",
       "      <td>-9.306317</td>\n",
       "      <td>1.080174</td>\n",
       "      <td>-35.521119</td>\n",
       "      <td>-9.762402</td>\n",
       "      <td>-9.363524</td>\n",
       "      <td>-8.776814</td>\n",
       "      <td>20.906953</td>\n",
       "    </tr>\n",
       "    <tr>\n",
       "      <th>AccML</th>\n",
       "      <td>7062672.0</td>\n",
       "      <td>-0.201251</td>\n",
       "      <td>1.269525</td>\n",
       "      <td>-26.164398</td>\n",
       "      <td>-0.929545</td>\n",
       "      <td>-0.172225</td>\n",
       "      <td>0.575211</td>\n",
       "      <td>27.484719</td>\n",
       "    </tr>\n",
       "    <tr>\n",
       "      <th>AccAP</th>\n",
       "      <td>7062672.0</td>\n",
       "      <td>1.808524</td>\n",
       "      <td>2.285849</td>\n",
       "      <td>-47.829639</td>\n",
       "      <td>0.567225</td>\n",
       "      <td>1.987101</td>\n",
       "      <td>3.449026</td>\n",
       "      <td>30.337694</td>\n",
       "    </tr>\n",
       "    <tr>\n",
       "      <th>StartHesitation</th>\n",
       "      <td>7062672.0</td>\n",
       "      <td>0.043155</td>\n",
       "      <td>0.203206</td>\n",
       "      <td>0.000000</td>\n",
       "      <td>0.000000</td>\n",
       "      <td>0.000000</td>\n",
       "      <td>0.000000</td>\n",
       "      <td>1.000000</td>\n",
       "    </tr>\n",
       "    <tr>\n",
       "      <th>Turn</th>\n",
       "      <td>7062672.0</td>\n",
       "      <td>0.237698</td>\n",
       "      <td>0.425673</td>\n",
       "      <td>0.000000</td>\n",
       "      <td>0.000000</td>\n",
       "      <td>0.000000</td>\n",
       "      <td>0.000000</td>\n",
       "      <td>1.000000</td>\n",
       "    </tr>\n",
       "    <tr>\n",
       "      <th>Walking</th>\n",
       "      <td>7062672.0</td>\n",
       "      <td>0.029428</td>\n",
       "      <td>0.169002</td>\n",
       "      <td>0.000000</td>\n",
       "      <td>0.000000</td>\n",
       "      <td>0.000000</td>\n",
       "      <td>0.000000</td>\n",
       "      <td>1.000000</td>\n",
       "    </tr>\n",
       "    <tr>\n",
       "      <th>All_zero</th>\n",
       "      <td>7062672.0</td>\n",
       "      <td>0.689719</td>\n",
       "      <td>0.462608</td>\n",
       "      <td>0.000000</td>\n",
       "      <td>0.000000</td>\n",
       "      <td>1.000000</td>\n",
       "      <td>1.000000</td>\n",
       "      <td>1.000000</td>\n",
       "    </tr>\n",
       "  </tbody>\n",
       "</table>\n",
       "</div>"
      ],
      "text/plain": [
       "                     count         mean           std        min          25%  \\\n",
       "Time             7062672.0  9289.467297  13998.925696   0.000000  2119.000000   \n",
       "AccV             7062672.0    -9.306317      1.080174 -35.521119    -9.762402   \n",
       "AccML            7062672.0    -0.201251      1.269525 -26.164398    -0.929545   \n",
       "AccAP            7062672.0     1.808524      2.285849 -47.829639     0.567225   \n",
       "StartHesitation  7062672.0     0.043155      0.203206   0.000000     0.000000   \n",
       "Turn             7062672.0     0.237698      0.425673   0.000000     0.000000   \n",
       "Walking          7062672.0     0.029428      0.169002   0.000000     0.000000   \n",
       "All_zero         7062672.0     0.689719      0.462608   0.000000     0.000000   \n",
       "\n",
       "                         50%          75%           max  \n",
       "Time             4310.000000  8433.000000  97076.000000  \n",
       "AccV               -9.363524    -8.776814     20.906953  \n",
       "AccML              -0.172225     0.575211     27.484719  \n",
       "AccAP               1.987101     3.449026     30.337694  \n",
       "StartHesitation     0.000000     0.000000      1.000000  \n",
       "Turn                0.000000     0.000000      1.000000  \n",
       "Walking             0.000000     0.000000      1.000000  \n",
       "All_zero            1.000000     1.000000      1.000000  "
      ]
     },
     "execution_count": 23,
     "metadata": {},
     "output_type": "execute_result"
    }
   ],
   "source": [
    "full_tdcsfog_dataset.describe().transpose()"
   ]
  },
  {
   "cell_type": "code",
   "execution_count": 24,
   "metadata": {},
   "outputs": [
    {
     "data": {
      "text/plain": [
       "(-47.8296390463539, 30.3376942190701, -26.1643977260173, 27.4847190880829)"
      ]
     },
     "execution_count": 24,
     "metadata": {},
     "output_type": "execute_result"
    },
    {
     "data": {
      "image/png": "[encoded data removed]",
      "text/plain": [
       "<Figure size 640x480 with 2 Axes>"
      ]
     },
     "metadata": {},
     "output_type": "display_data"
    }
   ],
   "source": [
    "plt.hist2d(full_tdcsfog_dataset['AccAP'], full_tdcsfog_dataset['AccML'], bins=(50, 50), vmax=10)\n",
    "plt.colorbar()\n",
    "plt.xlabel('X [AccAP]')\n",
    "plt.ylabel('Y [AccML]')\n",
    "ax = plt.gca()\n",
    "ax.axis('tight')\n"
   ]
  },
  {
   "cell_type": "code",
   "execution_count": 25,
   "metadata": {},
   "outputs": [
    {
     "data": {
      "text/plain": [
       "(-47.8296390463539, 30.3376942190701, -35.5211193954646, 20.9069528826542)"
      ]
     },
     "execution_count": 25,
     "metadata": {},
     "output_type": "execute_result"
    },
    {
     "data": {
      "image/png": "[encoded data removed]",
      "text/plain": [
       "<Figure size 640x480 with 2 Axes>"
      ]
     },
     "metadata": {},
     "output_type": "display_data"
    }
   ],
   "source": [
    "plt.hist2d(full_tdcsfog_dataset['AccAP'], full_tdcsfog_dataset['AccV'], bins=(50, 50), vmax=10)\n",
    "plt.colorbar()\n",
    "plt.xlabel('X [AccAP]')\n",
    "plt.ylabel('Y [AccV]')\n",
    "ax = plt.gca()\n",
    "ax.axis('tight')\n"
   ]
  },
  {
   "cell_type": "code",
   "execution_count": 26,
   "metadata": {},
   "outputs": [
    {
     "data": {
      "text/plain": [
       "(-35.5211193954646, 20.9069528826542, -26.1643977260173, 27.4847190880829)"
      ]
     },
     "execution_count": 26,
     "metadata": {},
     "output_type": "execute_result"
    },
    {
     "data": {
      "image/png": "[encoded data removed]",
      "text/plain": [
       "<Figure size 640x480 with 2 Axes>"
      ]
     },
     "metadata": {},
     "output_type": "display_data"
    }
   ],
   "source": [
    "plt.hist2d(full_tdcsfog_dataset['AccV'], full_tdcsfog_dataset['AccML'], bins=(50, 50), vmax=10)\n",
    "plt.colorbar()\n",
    "plt.xlabel('X [AccV]')\n",
    "plt.ylabel('Y [AccML]')\n",
    "ax = plt.gca()\n",
    "ax.axis('tight')\n"
   ]
  },
  {
   "attachments": {},
   "cell_type": "markdown",
   "metadata": {},
   "source": [
    "#### Remove some unecessary labels and clean"
   ]
  },
  {
   "cell_type": "code",
   "execution_count": null,
   "metadata": {},
   "outputs": [],
   "source": [
    "remove_col = ['ID','Time', 'Valid', 'Task']\n",
    "clean_defog_dataset = full_defog_dataset.drop(full_tdcsfog_dataset[remove_col],axis=1)\n",
    "clean_defog_dataset.head()"
   ]
  },
  {
   "cell_type": "code",
   "execution_count": 27,
   "metadata": {},
   "outputs": [
    {
     "data": {
      "text/html": [
       "<div>\n",
       "<style scoped>\n",
       "    .dataframe tbody tr th:only-of-type {\n",
       "        vertical-align: middle;\n",
       "    }\n",
       "\n",
       "    .dataframe tbody tr th {\n",
       "        vertical-align: top;\n",
       "    }\n",
       "\n",
       "    .dataframe thead th {\n",
       "        text-align: right;\n",
       "    }\n",
       "</style>\n",
       "<table border=\"1\" class=\"dataframe\">\n",
       "  <thead>\n",
       "    <tr style=\"text-align: right;\">\n",
       "      <th></th>\n",
       "      <th>AccV</th>\n",
       "      <th>AccML</th>\n",
       "      <th>AccAP</th>\n",
       "      <th>StartHesitation</th>\n",
       "      <th>Turn</th>\n",
       "      <th>Walking</th>\n",
       "      <th>All_zero</th>\n",
       "    </tr>\n",
       "  </thead>\n",
       "  <tbody>\n",
       "    <tr>\n",
       "      <th>0</th>\n",
       "      <td>-9.563005</td>\n",
       "      <td>0.147211</td>\n",
       "      <td>1.043645</td>\n",
       "      <td>0</td>\n",
       "      <td>0</td>\n",
       "      <td>0</td>\n",
       "      <td>1.0</td>\n",
       "    </tr>\n",
       "    <tr>\n",
       "      <th>1</th>\n",
       "      <td>-9.560686</td>\n",
       "      <td>0.156369</td>\n",
       "      <td>1.032437</td>\n",
       "      <td>0</td>\n",
       "      <td>0</td>\n",
       "      <td>0</td>\n",
       "      <td>1.0</td>\n",
       "    </tr>\n",
       "    <tr>\n",
       "      <th>2</th>\n",
       "      <td>-9.554016</td>\n",
       "      <td>0.149317</td>\n",
       "      <td>1.039120</td>\n",
       "      <td>0</td>\n",
       "      <td>0</td>\n",
       "      <td>0</td>\n",
       "      <td>1.0</td>\n",
       "    </tr>\n",
       "    <tr>\n",
       "      <th>3</th>\n",
       "      <td>-9.558530</td>\n",
       "      <td>0.149386</td>\n",
       "      <td>1.043640</td>\n",
       "      <td>0</td>\n",
       "      <td>0</td>\n",
       "      <td>0</td>\n",
       "      <td>1.0</td>\n",
       "    </tr>\n",
       "    <tr>\n",
       "      <th>4</th>\n",
       "      <td>-9.558615</td>\n",
       "      <td>0.142463</td>\n",
       "      <td>1.032258</td>\n",
       "      <td>0</td>\n",
       "      <td>0</td>\n",
       "      <td>0</td>\n",
       "      <td>1.0</td>\n",
       "    </tr>\n",
       "  </tbody>\n",
       "</table>\n",
       "</div>"
      ],
      "text/plain": [
       "       AccV     AccML     AccAP  StartHesitation  Turn  Walking  All_zero\n",
       "0 -9.563005  0.147211  1.043645                0     0        0       1.0\n",
       "1 -9.560686  0.156369  1.032437                0     0        0       1.0\n",
       "2 -9.554016  0.149317  1.039120                0     0        0       1.0\n",
       "3 -9.558530  0.149386  1.043640                0     0        0       1.0\n",
       "4 -9.558615  0.142463  1.032258                0     0        0       1.0"
      ]
     },
     "execution_count": 27,
     "metadata": {},
     "output_type": "execute_result"
    }
   ],
   "source": [
    "remove_col = ['ID','Time']\n",
    "clean_tdcsfog_dataset = full_tdcsfog_dataset.drop(full_tdcsfog_dataset[remove_col], axis=1)\n",
    "clean_tdcsfog_dataset.head()"
   ]
  },
  {
   "cell_type": "code",
   "execution_count": 28,
   "metadata": {},
   "outputs": [
    {
     "data": {
      "text/plain": [
       "(6181,\n",
       " AccV               0\n",
       " AccML              0\n",
       " AccAP              0\n",
       " StartHesitation    0\n",
       " Turn               0\n",
       " Walking            0\n",
       " All_zero           0\n",
       " dtype: int64)"
      ]
     },
     "execution_count": 28,
     "metadata": {},
     "output_type": "execute_result"
    }
   ],
   "source": [
    "# check duplication and null\n",
    "\n",
    "clean_tdcsfog_dataset.duplicated().sum(), clean_tdcsfog_dataset.isna().sum()"
   ]
  },
  {
   "cell_type": "code",
   "execution_count": 29,
   "metadata": {},
   "outputs": [
    {
     "data": {
      "text/plain": [
       "0"
      ]
     },
     "execution_count": 29,
     "metadata": {},
     "output_type": "execute_result"
    }
   ],
   "source": [
    "clean_tdcsfog_dataset.drop_duplicates(inplace=True)\n",
    "clean_tdcsfog_dataset.duplicated().sum()"
   ]
  },
  {
   "cell_type": "code",
   "execution_count": 30,
   "metadata": {},
   "outputs": [
    {
     "data": {
      "text/plain": [
       "(7056491, 7)"
      ]
     },
     "execution_count": 30,
     "metadata": {},
     "output_type": "execute_result"
    }
   ],
   "source": [
    "clean_tdcsfog_dataset.shape"
   ]
  },
  {
   "cell_type": "code",
   "execution_count": 34,
   "metadata": {},
   "outputs": [
    {
     "data": {
      "text/html": [
       "<div>\n",
       "<style scoped>\n",
       "    .dataframe tbody tr th:only-of-type {\n",
       "        vertical-align: middle;\n",
       "    }\n",
       "\n",
       "    .dataframe tbody tr th {\n",
       "        vertical-align: top;\n",
       "    }\n",
       "\n",
       "    .dataframe thead th {\n",
       "        text-align: right;\n",
       "    }\n",
       "</style>\n",
       "<table border=\"1\" class=\"dataframe\">\n",
       "  <thead>\n",
       "    <tr style=\"text-align: right;\">\n",
       "      <th></th>\n",
       "      <th>AccV</th>\n",
       "      <th>AccML</th>\n",
       "      <th>AccAP</th>\n",
       "      <th>StartHesitation</th>\n",
       "      <th>Turn</th>\n",
       "      <th>Walking</th>\n",
       "      <th>All_zero</th>\n",
       "    </tr>\n",
       "  </thead>\n",
       "  <tbody>\n",
       "    <tr>\n",
       "      <th>0</th>\n",
       "      <td>-9.563005</td>\n",
       "      <td>0.147211</td>\n",
       "      <td>1.043645</td>\n",
       "      <td>0</td>\n",
       "      <td>0</td>\n",
       "      <td>0</td>\n",
       "      <td>1.0</td>\n",
       "    </tr>\n",
       "    <tr>\n",
       "      <th>1</th>\n",
       "      <td>-9.560686</td>\n",
       "      <td>0.156369</td>\n",
       "      <td>1.032437</td>\n",
       "      <td>0</td>\n",
       "      <td>0</td>\n",
       "      <td>0</td>\n",
       "      <td>1.0</td>\n",
       "    </tr>\n",
       "    <tr>\n",
       "      <th>2</th>\n",
       "      <td>-9.554016</td>\n",
       "      <td>0.149317</td>\n",
       "      <td>1.039120</td>\n",
       "      <td>0</td>\n",
       "      <td>0</td>\n",
       "      <td>0</td>\n",
       "      <td>1.0</td>\n",
       "    </tr>\n",
       "    <tr>\n",
       "      <th>3</th>\n",
       "      <td>-9.558530</td>\n",
       "      <td>0.149386</td>\n",
       "      <td>1.043640</td>\n",
       "      <td>0</td>\n",
       "      <td>0</td>\n",
       "      <td>0</td>\n",
       "      <td>1.0</td>\n",
       "    </tr>\n",
       "    <tr>\n",
       "      <th>4</th>\n",
       "      <td>-9.558615</td>\n",
       "      <td>0.142463</td>\n",
       "      <td>1.032258</td>\n",
       "      <td>0</td>\n",
       "      <td>0</td>\n",
       "      <td>0</td>\n",
       "      <td>1.0</td>\n",
       "    </tr>\n",
       "  </tbody>\n",
       "</table>\n",
       "</div>"
      ],
      "text/plain": [
       "       AccV     AccML     AccAP  StartHesitation  Turn  Walking  All_zero\n",
       "0 -9.563005  0.147211  1.043645                0     0        0       1.0\n",
       "1 -9.560686  0.156369  1.032437                0     0        0       1.0\n",
       "2 -9.554016  0.149317  1.039120                0     0        0       1.0\n",
       "3 -9.558530  0.149386  1.043640                0     0        0       1.0\n",
       "4 -9.558615  0.142463  1.032258                0     0        0       1.0"
      ]
     },
     "execution_count": 34,
     "metadata": {},
     "output_type": "execute_result"
    }
   ],
   "source": [
    "# clean_tdcsfog_dataset.to_parquet('Data/clean/clean_tdcsfog_dataset.parquet')\n",
    "clean_tdcsfog_dataset.head()"
   ]
  },
  {
   "cell_type": "code",
   "execution_count": 35,
   "metadata": {},
   "outputs": [
    {
     "data": {
      "text/plain": [
       "4865095"
      ]
     },
     "execution_count": 35,
     "metadata": {},
     "output_type": "execute_result"
    }
   ],
   "source": [
    "condition = (clean_tdcsfog_dataset.StartHesitation == 0) & (clean_tdcsfog_dataset.Turn == 0 ) & (clean_tdcsfog_dataset.Walking == 0)\n",
    "total_zero = clean_tdcsfog_dataset[condition].shape[0]\n",
    "total_zero"
   ]
  },
  {
   "cell_type": "code",
   "execution_count": 36,
   "metadata": {},
   "outputs": [
    {
     "data": {
      "text/plain": [
       "4865095"
      ]
     },
     "execution_count": 36,
     "metadata": {},
     "output_type": "execute_result"
    }
   ],
   "source": [
    "All_zero = clean_tdcsfog_dataset[clean_tdcsfog_dataset.All_zero == 1].shape[0]\n",
    "All_zero"
   ]
  },
  {
   "cell_type": "code",
   "execution_count": 37,
   "metadata": {},
   "outputs": [
    {
     "data": {
      "text/plain": [
       "True"
      ]
     },
     "execution_count": 37,
     "metadata": {},
     "output_type": "execute_result"
    }
   ],
   "source": [
    "All_zero == total_zero"
   ]
  },
  {
   "cell_type": "code",
   "execution_count": 38,
   "metadata": {},
   "outputs": [
    {
     "data": {
      "text/plain": [
       "304786"
      ]
     },
     "execution_count": 38,
     "metadata": {},
     "output_type": "execute_result"
    }
   ],
   "source": [
    "a = clean_tdcsfog_dataset[clean_tdcsfog_dataset.StartHesitation == 1].shape[0]\n",
    "a"
   ]
  },
  {
   "cell_type": "code",
   "execution_count": 39,
   "metadata": {},
   "outputs": [
    {
     "data": {
      "text/plain": [
       "207837"
      ]
     },
     "execution_count": 39,
     "metadata": {},
     "output_type": "execute_result"
    }
   ],
   "source": [
    "b = clean_tdcsfog_dataset[clean_tdcsfog_dataset.Walking == 1].shape[0]\n",
    "b"
   ]
  },
  {
   "cell_type": "code",
   "execution_count": 40,
   "metadata": {},
   "outputs": [
    {
     "data": {
      "text/plain": [
       "1678773"
      ]
     },
     "execution_count": 40,
     "metadata": {},
     "output_type": "execute_result"
    }
   ],
   "source": [
    "c = clean_tdcsfog_dataset[clean_tdcsfog_dataset.Turn == 1].shape[0]\n",
    "c"
   ]
  },
  {
   "cell_type": "code",
   "execution_count": 41,
   "metadata": {},
   "outputs": [
    {
     "data": {
      "text/plain": [
       "True"
      ]
     },
     "execution_count": 41,
     "metadata": {},
     "output_type": "execute_result"
    }
   ],
   "source": [
    "clean_tdcsfog_dataset.shape[0] == a + b + c + All_zero"
   ]
  },
  {
   "attachments": {},
   "cell_type": "markdown",
   "metadata": {},
   "source": [
    "#### Feature and Labels"
   ]
  },
  {
   "cell_type": "code",
   "execution_count": 42,
   "metadata": {},
   "outputs": [],
   "source": [
    "feature_col = ['AccV','AccML','AccAP']\n",
    "label_col = ['StartHesitation','Turn','Walking', 'All_zero']\n",
    "\n",
    "feature_dataset = clean_tdcsfog_dataset[feature_col]\n",
    "label_dataset = clean_tdcsfog_dataset[label_col]"
   ]
  },
  {
   "cell_type": "code",
   "execution_count": 43,
   "metadata": {},
   "outputs": [
    {
     "data": {
      "text/plain": [
       "(       AccV     AccML     AccAP\n",
       " 0 -9.563005  0.147211  1.043645\n",
       " 1 -9.560686  0.156369  1.032437\n",
       " 2 -9.554016  0.149317  1.039120\n",
       " 3 -9.558530  0.149386  1.043640\n",
       " 4 -9.558615  0.142463  1.032258,\n",
       "    StartHesitation  Turn  Walking  All_zero\n",
       " 0                0     0        0       1.0\n",
       " 1                0     0        0       1.0\n",
       " 2                0     0        0       1.0\n",
       " 3                0     0        0       1.0\n",
       " 4                0     0        0       1.0)"
      ]
     },
     "execution_count": 43,
     "metadata": {},
     "output_type": "execute_result"
    }
   ],
   "source": [
    "feature_dataset.head(), label_dataset.head()"
   ]
  },
  {
   "attachments": {},
   "cell_type": "markdown",
   "metadata": {},
   "source": [
    "#### Oversampling with SMOTE"
   ]
  },
  {
   "cell_type": "code",
   "execution_count": 44,
   "metadata": {},
   "outputs": [],
   "source": [
    "from imblearn.over_sampling import SMOTE\n",
    "import numpy as np\n",
    "# Instantiate the MultiLabelUnderSampler\n",
    "over_sampler = SMOTE()\n",
    "\n",
    "# Undersample the dataset\n",
    "X_resampled, y_resampled = over_sampler.fit_resample(feature_dataset.to_numpy(), label_dataset.to_numpy())"
   ]
  },
  {
   "cell_type": "code",
   "execution_count": 45,
   "metadata": {},
   "outputs": [
    {
     "data": {
      "text/plain": [
       "(7056491, 3)"
      ]
     },
     "execution_count": 45,
     "metadata": {},
     "output_type": "execute_result"
    }
   ],
   "source": [
    "feature_dataset.shape"
   ]
  },
  {
   "cell_type": "code",
   "execution_count": 46,
   "metadata": {},
   "outputs": [
    {
     "data": {
      "text/plain": [
       "(19460380, 3)"
      ]
     },
     "execution_count": 46,
     "metadata": {},
     "output_type": "execute_result"
    }
   ],
   "source": [
    "SMOTE_features_dataset = pd.DataFrame(X_resampled, columns=feature_dataset.columns)\n",
    "SMOTE_features_dataset.shape"
   ]
  },
  {
   "cell_type": "code",
   "execution_count": 47,
   "metadata": {},
   "outputs": [
    {
     "data": {
      "text/plain": [
       "(19460380, 4)"
      ]
     },
     "execution_count": 47,
     "metadata": {},
     "output_type": "execute_result"
    }
   ],
   "source": [
    "SMOTE_labels_dataset = pd.DataFrame(y_resampled, columns=label_dataset.columns)\n",
    "SMOTE_labels_dataset.shape"
   ]
  },
  {
   "cell_type": "code",
   "execution_count": 48,
   "metadata": {},
   "outputs": [
    {
     "data": {
      "text/plain": [
       "(4865095, 4865095, 4865095, 4865095)"
      ]
     },
     "execution_count": 48,
     "metadata": {},
     "output_type": "execute_result"
    }
   ],
   "source": [
    "a = SMOTE_labels_dataset[SMOTE_labels_dataset.StartHesitation == 1].shape[0]\n",
    "b = SMOTE_labels_dataset[SMOTE_labels_dataset.Turn == 1].shape[0]\n",
    "c = SMOTE_labels_dataset[SMOTE_labels_dataset.Walking ==1].shape[0]\n",
    "d = SMOTE_labels_dataset[SMOTE_labels_dataset.All_zero == 1].shape[0]\n",
    "a , b, c, d"
   ]
  },
  {
   "cell_type": "code",
   "execution_count": 49,
   "metadata": {},
   "outputs": [
    {
     "data": {
      "text/plain": [
       "True"
      ]
     },
     "execution_count": 49,
     "metadata": {},
     "output_type": "execute_result"
    }
   ],
   "source": [
    "SMOTE_labels_dataset.shape[0] == a + b + c + d"
   ]
  },
  {
   "cell_type": "code",
   "execution_count": 50,
   "metadata": {},
   "outputs": [
    {
     "data": {
      "text/plain": [
       "19460380"
      ]
     },
     "execution_count": 50,
     "metadata": {},
     "output_type": "execute_result"
    }
   ],
   "source": [
    "oversampling_tdcsfog_dataset = pd.concat([SMOTE_features_dataset,SMOTE_labels_dataset], ignore_index= False, sort=False, axis=1)\n",
    "oversampling_tdcsfog_dataset.shape[0]"
   ]
  },
  {
   "cell_type": "code",
   "execution_count": 51,
   "metadata": {},
   "outputs": [
    {
     "data": {
      "text/html": [
       "<div>\n",
       "<style scoped>\n",
       "    .dataframe tbody tr th:only-of-type {\n",
       "        vertical-align: middle;\n",
       "    }\n",
       "\n",
       "    .dataframe tbody tr th {\n",
       "        vertical-align: top;\n",
       "    }\n",
       "\n",
       "    .dataframe thead th {\n",
       "        text-align: right;\n",
       "    }\n",
       "</style>\n",
       "<table border=\"1\" class=\"dataframe\">\n",
       "  <thead>\n",
       "    <tr style=\"text-align: right;\">\n",
       "      <th></th>\n",
       "      <th>AccV</th>\n",
       "      <th>AccML</th>\n",
       "      <th>AccAP</th>\n",
       "      <th>StartHesitation</th>\n",
       "      <th>Turn</th>\n",
       "      <th>Walking</th>\n",
       "      <th>All_zero</th>\n",
       "    </tr>\n",
       "  </thead>\n",
       "  <tbody>\n",
       "    <tr>\n",
       "      <th>0</th>\n",
       "      <td>-9.563005</td>\n",
       "      <td>0.147211</td>\n",
       "      <td>1.043645</td>\n",
       "      <td>0</td>\n",
       "      <td>0</td>\n",
       "      <td>0</td>\n",
       "      <td>1</td>\n",
       "    </tr>\n",
       "    <tr>\n",
       "      <th>1</th>\n",
       "      <td>-9.560686</td>\n",
       "      <td>0.156369</td>\n",
       "      <td>1.032437</td>\n",
       "      <td>0</td>\n",
       "      <td>0</td>\n",
       "      <td>0</td>\n",
       "      <td>1</td>\n",
       "    </tr>\n",
       "    <tr>\n",
       "      <th>2</th>\n",
       "      <td>-9.554016</td>\n",
       "      <td>0.149317</td>\n",
       "      <td>1.039120</td>\n",
       "      <td>0</td>\n",
       "      <td>0</td>\n",
       "      <td>0</td>\n",
       "      <td>1</td>\n",
       "    </tr>\n",
       "    <tr>\n",
       "      <th>3</th>\n",
       "      <td>-9.558530</td>\n",
       "      <td>0.149386</td>\n",
       "      <td>1.043640</td>\n",
       "      <td>0</td>\n",
       "      <td>0</td>\n",
       "      <td>0</td>\n",
       "      <td>1</td>\n",
       "    </tr>\n",
       "    <tr>\n",
       "      <th>4</th>\n",
       "      <td>-9.558615</td>\n",
       "      <td>0.142463</td>\n",
       "      <td>1.032258</td>\n",
       "      <td>0</td>\n",
       "      <td>0</td>\n",
       "      <td>0</td>\n",
       "      <td>1</td>\n",
       "    </tr>\n",
       "  </tbody>\n",
       "</table>\n",
       "</div>"
      ],
      "text/plain": [
       "       AccV     AccML     AccAP  StartHesitation  Turn  Walking  All_zero\n",
       "0 -9.563005  0.147211  1.043645                0     0        0         1\n",
       "1 -9.560686  0.156369  1.032437                0     0        0         1\n",
       "2 -9.554016  0.149317  1.039120                0     0        0         1\n",
       "3 -9.558530  0.149386  1.043640                0     0        0         1\n",
       "4 -9.558615  0.142463  1.032258                0     0        0         1"
      ]
     },
     "execution_count": 51,
     "metadata": {},
     "output_type": "execute_result"
    }
   ],
   "source": [
    "# oversampling_tdcsfog_dataset.to_parquet('Data/clean/oversampling_tdcsfog_dataset.parquet')\n",
    "oversampling_tdcsfog_dataset.head()"
   ]
  },
  {
   "attachments": {},
   "cell_type": "markdown",
   "metadata": {},
   "source": [
    "### 70% Train Data, 10% Validation Data, 20% Test Data\n",
    "\n",
    "\n",
    "80% Set Data(60% Train Data, 20% Validation Data) , 20% Test Data"
   ]
  },
  {
   "cell_type": "code",
   "execution_count": 62,
   "metadata": {},
   "outputs": [
    {
     "data": {
      "text/plain": [
       "((15568304, 7), (3892076, 7))"
      ]
     },
     "execution_count": 62,
     "metadata": {},
     "output_type": "execute_result"
    }
   ],
   "source": [
    "from sklearn.model_selection import train_test_split\n",
    "import random \n",
    "random_seed = 54\n",
    "\n",
    "set_tdcsfog_data, test_tdcsfog_data = train_test_split(oversampling_tdcsfog_dataset, test_size=0.2, random_state=True)\n",
    "set_tdcsfog_data.shape, test_tdcsfog_data.shape"
   ]
  },
  {
   "cell_type": "code",
   "execution_count": 63,
   "metadata": {},
   "outputs": [
    {
     "data": {
      "text/plain": [
       "True"
      ]
     },
     "execution_count": 63,
     "metadata": {},
     "output_type": "execute_result"
    }
   ],
   "source": [
    "oversampling_tdcsfog_dataset.shape[0] == set_tdcsfog_data.shape[0] + test_tdcsfog_data.shape[0]"
   ]
  },
  {
   "cell_type": "code",
   "execution_count": 64,
   "metadata": {},
   "outputs": [
    {
     "data": {
      "text/html": [
       "<div>\n",
       "<style scoped>\n",
       "    .dataframe tbody tr th:only-of-type {\n",
       "        vertical-align: middle;\n",
       "    }\n",
       "\n",
       "    .dataframe tbody tr th {\n",
       "        vertical-align: top;\n",
       "    }\n",
       "\n",
       "    .dataframe thead th {\n",
       "        text-align: right;\n",
       "    }\n",
       "</style>\n",
       "<table border=\"1\" class=\"dataframe\">\n",
       "  <thead>\n",
       "    <tr style=\"text-align: right;\">\n",
       "      <th></th>\n",
       "      <th>AccV</th>\n",
       "      <th>AccML</th>\n",
       "      <th>AccAP</th>\n",
       "      <th>StartHesitation</th>\n",
       "      <th>Turn</th>\n",
       "      <th>Walking</th>\n",
       "      <th>All_zero</th>\n",
       "    </tr>\n",
       "  </thead>\n",
       "  <tbody>\n",
       "    <tr>\n",
       "      <th>3722498</th>\n",
       "      <td>-12.153207</td>\n",
       "      <td>0.096835</td>\n",
       "      <td>1.405598</td>\n",
       "      <td>0</td>\n",
       "      <td>0</td>\n",
       "      <td>0</td>\n",
       "      <td>1</td>\n",
       "    </tr>\n",
       "    <tr>\n",
       "      <th>4382740</th>\n",
       "      <td>-8.478824</td>\n",
       "      <td>0.912786</td>\n",
       "      <td>3.455523</td>\n",
       "      <td>0</td>\n",
       "      <td>0</td>\n",
       "      <td>0</td>\n",
       "      <td>1</td>\n",
       "    </tr>\n",
       "    <tr>\n",
       "      <th>17018262</th>\n",
       "      <td>-7.880811</td>\n",
       "      <td>-1.906555</td>\n",
       "      <td>1.027819</td>\n",
       "      <td>0</td>\n",
       "      <td>0</td>\n",
       "      <td>1</td>\n",
       "      <td>0</td>\n",
       "    </tr>\n",
       "    <tr>\n",
       "      <th>18798337</th>\n",
       "      <td>-7.706927</td>\n",
       "      <td>0.775821</td>\n",
       "      <td>4.621651</td>\n",
       "      <td>0</td>\n",
       "      <td>0</td>\n",
       "      <td>1</td>\n",
       "      <td>0</td>\n",
       "    </tr>\n",
       "    <tr>\n",
       "      <th>8385476</th>\n",
       "      <td>-6.750845</td>\n",
       "      <td>0.369814</td>\n",
       "      <td>5.046322</td>\n",
       "      <td>1</td>\n",
       "      <td>0</td>\n",
       "      <td>0</td>\n",
       "      <td>0</td>\n",
       "    </tr>\n",
       "  </tbody>\n",
       "</table>\n",
       "</div>"
      ],
      "text/plain": [
       "               AccV     AccML     AccAP  StartHesitation  Turn  Walking  \\\n",
       "3722498  -12.153207  0.096835  1.405598                0     0        0   \n",
       "4382740   -8.478824  0.912786  3.455523                0     0        0   \n",
       "17018262  -7.880811 -1.906555  1.027819                0     0        1   \n",
       "18798337  -7.706927  0.775821  4.621651                0     0        1   \n",
       "8385476   -6.750845  0.369814  5.046322                1     0        0   \n",
       "\n",
       "          All_zero  \n",
       "3722498          1  \n",
       "4382740          1  \n",
       "17018262         0  \n",
       "18798337         0  \n",
       "8385476          0  "
      ]
     },
     "execution_count": 64,
     "metadata": {},
     "output_type": "execute_result"
    }
   ],
   "source": [
    "set_tdcsfog_data.head()"
   ]
  },
  {
   "attachments": {},
   "cell_type": "markdown",
   "metadata": {},
   "source": [
    "#### Check all class are equal"
   ]
  },
  {
   "cell_type": "code",
   "execution_count": 66,
   "metadata": {},
   "outputs": [
    {
     "data": {
      "text/plain": [
       "(3891267, 3891868, 3891842, 3893327)"
      ]
     },
     "execution_count": 66,
     "metadata": {},
     "output_type": "execute_result"
    }
   ],
   "source": [
    "a = set_tdcsfog_data[set_tdcsfog_data.StartHesitation == 1].shape[0]\n",
    "b = set_tdcsfog_data[set_tdcsfog_data.Turn == 1].shape[0]\n",
    "c = set_tdcsfog_data[set_tdcsfog_data.Walking == 1].shape[0]\n",
    "d = set_tdcsfog_data[set_tdcsfog_data.All_zero == 1].shape[0]\n",
    "a, b, c, d"
   ]
  },
  {
   "cell_type": "code",
   "execution_count": 67,
   "metadata": {},
   "outputs": [
    {
     "data": {
      "text/plain": [
       "True"
      ]
     },
     "execution_count": 67,
     "metadata": {},
     "output_type": "execute_result"
    }
   ],
   "source": [
    "set_tdcsfog_data.shape[0] == a + b + c + d"
   ]
  },
  {
   "cell_type": "code",
   "execution_count": 68,
   "metadata": {},
   "outputs": [
    {
     "data": {
      "text/plain": [
       "(973828, 973227, 973253, 971768)"
      ]
     },
     "execution_count": 68,
     "metadata": {},
     "output_type": "execute_result"
    }
   ],
   "source": [
    "a = test_tdcsfog_data[test_tdcsfog_data.StartHesitation == 1].shape[0]\n",
    "b = test_tdcsfog_data[test_tdcsfog_data.Turn == 1].shape[0]\n",
    "c = test_tdcsfog_data[test_tdcsfog_data.Walking == 1].shape[0]\n",
    "d = test_tdcsfog_data[test_tdcsfog_data.All_zero == 1].shape[0]\n",
    "a, b, c, d"
   ]
  },
  {
   "cell_type": "code",
   "execution_count": 69,
   "metadata": {},
   "outputs": [
    {
     "data": {
      "text/plain": [
       "True"
      ]
     },
     "execution_count": 69,
     "metadata": {},
     "output_type": "execute_result"
    }
   ],
   "source": [
    "test_tdcsfog_data.shape[0] == a + b + c + d"
   ]
  },
  {
   "cell_type": "code",
   "execution_count": 70,
   "metadata": {},
   "outputs": [],
   "source": [
    "# # Save process data\n",
    "\n",
    "# set_tdcsfog_data.to_parquet('Data/Process/set_tdcsfog_data.parquet')\n",
    "# test_tdcsfog_data.to_parquet('Data/Process/test_tdcsfog_data.parquet')"
   ]
  },
  {
   "cell_type": "code",
   "execution_count": 71,
   "metadata": {},
   "outputs": [
    {
     "data": {
      "text/plain": [
       "0"
      ]
     },
     "execution_count": 71,
     "metadata": {},
     "output_type": "execute_result"
    }
   ],
   "source": [
    "test_tdcsfog_data.duplicated().sum()"
   ]
  },
  {
   "cell_type": "code",
   "execution_count": 72,
   "metadata": {},
   "outputs": [
    {
     "data": {
      "text/plain": [
       "0"
      ]
     },
     "execution_count": 72,
     "metadata": {},
     "output_type": "execute_result"
    }
   ],
   "source": [
    "set_tdcsfog_data.duplicated().sum()"
   ]
  },
  {
   "cell_type": "code",
   "execution_count": null,
   "metadata": {},
   "outputs": [],
   "source": []
  }
 ],
 "metadata": {
  "kernelspec": {
   "display_name": "main",
   "language": "python",
   "name": "python3"
  },
  "language_info": {
   "codemirror_mode": {
    "name": "ipython",
    "version": 3
   },
   "file_extension": ".py",
   "mimetype": "text/x-python",
   "name": "python",
   "nbconvert_exporter": "python",
   "pygments_lexer": "ipython3",
   "version": "3.10.9"
  },
  "orig_nbformat": 4
 },
 "nbformat": 4,
 "nbformat_minor": 2
}
